{
 "cells": [
  {
   "cell_type": "code",
   "execution_count": 51,
   "metadata": {},
   "outputs": [],
   "source": [
    "import pandas as pd\n",
    "import numpy as np\n",
    "import matplotlib.pyplot as plt\n",
    "%matplotlib inline\n",
    "import seaborn as sns\n",
    "import scipy.stats as stats\n",
    "from statsmodels.stats.proportion import proportions_ztest\n",
    "from sklearn.model_selection import GridSearchCV\n",
    "from sklearn.model_selection import train_test_split\n",
    "from sklearn.metrics import accuracy_score, f1_score, recall_score\n",
    "from sklearn import metrics\n",
    "from sklearn.tree import DecisionTreeClassifier\n",
    "from sklearn.ensemble import RandomForestClassifier, VotingClassifier\n",
    "from collections import Counter\n",
    "from imblearn.under_sampling import TomekLinks\n",
    "import pickle\n",
    "\n",
    "pd.set_option('display.max_rows', 500)\n",
    "pd.set_option('display.max_columns', 500)\n",
    "\n",
    "\n",
    "churn = pd.read_csv('churn.csv', index_col=0)"
   ]
  },
  {
   "cell_type": "code",
   "execution_count": 2,
   "metadata": {},
   "outputs": [],
   "source": [
    "X = churn.drop('churn', axis = 1)\n",
    "y = churn.churn"
   ]
  },
  {
   "cell_type": "code",
   "execution_count": 3,
   "metadata": {
    "scrolled": true
   },
   "outputs": [
    {
     "data": {
      "text/plain": [
       "0    2850\n",
       "1     483\n",
       "Name: churn, dtype: int64"
      ]
     },
     "execution_count": 3,
     "metadata": {},
     "output_type": "execute_result"
    }
   ],
   "source": [
    "y.value_counts()"
   ]
  },
  {
   "cell_type": "markdown",
   "metadata": {},
   "source": [
    "# Decision Tree - Grid Search"
   ]
  },
  {
   "cell_type": "code",
   "execution_count": 4,
   "metadata": {},
   "outputs": [],
   "source": [
    "X_traintl, X_testtl, y_traintl, y_testtl = train_test_split(X, y, random_state=1)"
   ]
  },
  {
   "cell_type": "code",
   "execution_count": 5,
   "metadata": {
    "scrolled": true
   },
   "outputs": [
    {
     "data": {
      "text/plain": [
       "0    2138\n",
       "1     361\n",
       "Name: churn, dtype: int64"
      ]
     },
     "execution_count": 5,
     "metadata": {},
     "output_type": "execute_result"
    }
   ],
   "source": [
    "y_traintl.value_counts()"
   ]
  },
  {
   "cell_type": "code",
   "execution_count": 6,
   "metadata": {},
   "outputs": [
    {
     "name": "stdout",
     "output_type": "stream",
     "text": [
      "Resampled dataset shape Counter({0: 2000, 1: 361})\n"
     ]
    }
   ],
   "source": [
    "## I am going to use TomekLinks to downsample because I have a significant class imbalance \n",
    "## in my churn variable.\n",
    "\n",
    "tl = TomekLinks()\n",
    "X_res, y_res = tl.fit_resample(X_traintl, y_traintl)\n",
    "print('Resampled dataset shape %s' % Counter(y_res))"
   ]
  },
  {
   "cell_type": "code",
   "execution_count": 7,
   "metadata": {},
   "outputs": [],
   "source": [
    "tl = TomekLinks()\n",
    "X_res, y_res = tl.fit_sample(X_traintl, y_traintl)\n"
   ]
  },
  {
   "cell_type": "code",
   "execution_count": 8,
   "metadata": {},
   "outputs": [],
   "source": [
    "param_dict={'max_depth': range(1,10,1),'criterion': ['gini','entropy'], 'min_samples_leaf' : range(10,40,1), 'max_leaf_nodes': range(0,30,1), 'class_weight': ['balanced']}"
   ]
  },
  {
   "cell_type": "code",
   "execution_count": 9,
   "metadata": {},
   "outputs": [],
   "source": [
    "gs = GridSearchCV(DecisionTreeClassifier(random_state=1),\n",
    "                  param_grid= param_dict,\n",
    "                  scoring='f1', cv=3,verbose = 1, n_jobs=-1)"
   ]
  },
  {
   "cell_type": "code",
   "execution_count": 10,
   "metadata": {},
   "outputs": [
    {
     "name": "stdout",
     "output_type": "stream",
     "text": [
      "Fitting 3 folds for each of 16200 candidates, totalling 48600 fits\n"
     ]
    },
    {
     "name": "stderr",
     "output_type": "stream",
     "text": [
      "[Parallel(n_jobs=-1)]: Using backend LokyBackend with 12 concurrent workers.\n",
      "[Parallel(n_jobs=-1)]: Done  26 tasks      | elapsed:    1.6s\n",
      "[Parallel(n_jobs=-1)]: Done 1100 tasks      | elapsed:    3.2s\n",
      "[Parallel(n_jobs=-1)]: Done 5100 tasks      | elapsed:    7.8s\n",
      "[Parallel(n_jobs=-1)]: Done 10700 tasks      | elapsed:   14.3s\n",
      "[Parallel(n_jobs=-1)]: Done 17900 tasks      | elapsed:   24.0s\n",
      "[Parallel(n_jobs=-1)]: Done 26700 tasks      | elapsed:   35.7s\n",
      "[Parallel(n_jobs=-1)]: Done 37100 tasks      | elapsed:   49.2s\n",
      "[Parallel(n_jobs=-1)]: Done 48600 out of 48600 | elapsed:  1.1min finished\n"
     ]
    },
    {
     "data": {
      "text/plain": [
       "GridSearchCV(cv=3, estimator=DecisionTreeClassifier(random_state=1), n_jobs=-1,\n",
       "             param_grid={'class_weight': ['balanced'],\n",
       "                         'criterion': ['gini', 'entropy'],\n",
       "                         'max_depth': range(1, 10),\n",
       "                         'max_leaf_nodes': range(0, 30),\n",
       "                         'min_samples_leaf': range(10, 40)},\n",
       "             scoring='f1', verbose=1)"
      ]
     },
     "execution_count": 10,
     "metadata": {},
     "output_type": "execute_result"
    }
   ],
   "source": [
    "gs.fit(X_res, y_res)"
   ]
  },
  {
   "cell_type": "code",
   "execution_count": 11,
   "metadata": {},
   "outputs": [
    {
     "data": {
      "text/plain": [
       "0.7443197808703079"
      ]
     },
     "execution_count": 11,
     "metadata": {},
     "output_type": "execute_result"
    }
   ],
   "source": [
    "gs.best_score_"
   ]
  },
  {
   "cell_type": "code",
   "execution_count": 12,
   "metadata": {},
   "outputs": [
    {
     "data": {
      "text/plain": [
       "{'class_weight': 'balanced',\n",
       " 'criterion': 'entropy',\n",
       " 'max_depth': 6,\n",
       " 'max_leaf_nodes': 21,\n",
       " 'min_samples_leaf': 10}"
      ]
     },
     "execution_count": 12,
     "metadata": {},
     "output_type": "execute_result"
    }
   ],
   "source": [
    "gs.best_params_"
   ]
  },
  {
   "cell_type": "code",
   "execution_count": 23,
   "metadata": {},
   "outputs": [],
   "source": [
    "y_predsgs=gs.best_estimator_.predict(X_testtl)\n"
   ]
  },
  {
   "cell_type": "code",
   "execution_count": 40,
   "metadata": {
    "scrolled": true
   },
   "outputs": [
    {
     "data": {
      "text/plain": [
       "0.7622950819672131"
      ]
     },
     "execution_count": 40,
     "metadata": {},
     "output_type": "execute_result"
    }
   ],
   "source": [
    "recall_score(y_testtl,y_predsgs)"
   ]
  },
  {
   "cell_type": "code",
   "execution_count": 41,
   "metadata": {},
   "outputs": [
    {
     "data": {
      "text/plain": [
       "0.7153846153846154"
      ]
     },
     "execution_count": 41,
     "metadata": {},
     "output_type": "execute_result"
    }
   ],
   "source": [
    "f1_score(y_testtl,y_predsgs)"
   ]
  },
  {
   "cell_type": "code",
   "execution_count": 60,
   "metadata": {},
   "outputs": [],
   "source": [
    "mod = open('gs.pkl', 'wb')\n",
    "pickle.dump(gs.best_estimator_, mod)\n",
    "mod.close()"
   ]
  },
  {
   "cell_type": "markdown",
   "metadata": {},
   "source": [
    "## - Second Decision Tree Grid Search\n",
    "## - This time scoring on Recall instead of F1"
   ]
  },
  {
   "cell_type": "code",
   "execution_count": 80,
   "metadata": {},
   "outputs": [],
   "source": [
    "gs2 = GridSearchCV(DecisionTreeClassifier(random_state=1),\n",
    "                  param_grid= param_dict,\n",
    "                  scoring='recall', cv=3,verbose = 1, n_jobs=-1)"
   ]
  },
  {
   "cell_type": "code",
   "execution_count": 81,
   "metadata": {},
   "outputs": [
    {
     "name": "stdout",
     "output_type": "stream",
     "text": [
      "Fitting 3 folds for each of 16200 candidates, totalling 48600 fits\n"
     ]
    },
    {
     "name": "stderr",
     "output_type": "stream",
     "text": [
      "[Parallel(n_jobs=-1)]: Using backend LokyBackend with 12 concurrent workers.\n",
      "[Parallel(n_jobs=-1)]: Done  26 tasks      | elapsed:    1.4s\n",
      "[Parallel(n_jobs=-1)]: Done 920 tasks      | elapsed:    2.7s\n",
      "[Parallel(n_jobs=-1)]: Done 4920 tasks      | elapsed:    7.6s\n",
      "[Parallel(n_jobs=-1)]: Done 10520 tasks      | elapsed:   14.5s\n",
      "[Parallel(n_jobs=-1)]: Done 17720 tasks      | elapsed:   24.8s\n",
      "[Parallel(n_jobs=-1)]: Done 26520 tasks      | elapsed:   37.1s\n",
      "[Parallel(n_jobs=-1)]: Done 36920 tasks      | elapsed:   51.3s\n",
      "[Parallel(n_jobs=-1)]: Done 48600 out of 48600 | elapsed:  1.2min finished\n"
     ]
    },
    {
     "data": {
      "text/plain": [
       "GridSearchCV(cv=3, estimator=DecisionTreeClassifier(random_state=1), n_jobs=-1,\n",
       "             param_grid={'class_weight': ['balanced'],\n",
       "                         'criterion': ['gini', 'entropy'],\n",
       "                         'max_depth': range(1, 10),\n",
       "                         'max_leaf_nodes': range(0, 30),\n",
       "                         'min_samples_leaf': range(10, 40)},\n",
       "             scoring='recall', verbose=1)"
      ]
     },
     "execution_count": 81,
     "metadata": {},
     "output_type": "execute_result"
    }
   ],
   "source": [
    "gs2.fit(X_res, y_res)"
   ]
  },
  {
   "cell_type": "code",
   "execution_count": 83,
   "metadata": {},
   "outputs": [
    {
     "data": {
      "text/plain": [
       "0.8504361799816346"
      ]
     },
     "execution_count": 83,
     "metadata": {},
     "output_type": "execute_result"
    }
   ],
   "source": [
    "gs2.best_score_"
   ]
  },
  {
   "cell_type": "code",
   "execution_count": 84,
   "metadata": {},
   "outputs": [
    {
     "data": {
      "text/plain": [
       "{'class_weight': 'balanced',\n",
       " 'criterion': 'gini',\n",
       " 'max_depth': 4,\n",
       " 'max_leaf_nodes': 6,\n",
       " 'min_samples_leaf': 10}"
      ]
     },
     "execution_count": 84,
     "metadata": {},
     "output_type": "execute_result"
    }
   ],
   "source": [
    "gs2.best_params_"
   ]
  },
  {
   "cell_type": "code",
   "execution_count": 85,
   "metadata": {},
   "outputs": [],
   "source": [
    "y_predsgs2=gs2.best_estimator_.predict(X_testtl)\n"
   ]
  },
  {
   "cell_type": "code",
   "execution_count": 86,
   "metadata": {},
   "outputs": [
    {
     "data": {
      "text/plain": [
       "0.7459016393442623"
      ]
     },
     "execution_count": 86,
     "metadata": {},
     "output_type": "execute_result"
    }
   ],
   "source": [
    "recall_score(y_testtl,y_predsgs2)"
   ]
  },
  {
   "cell_type": "code",
   "execution_count": 87,
   "metadata": {},
   "outputs": [
    {
     "data": {
      "text/plain": [
       "0.5723270440251572"
      ]
     },
     "execution_count": 87,
     "metadata": {},
     "output_type": "execute_result"
    }
   ],
   "source": [
    "f1_score(y_testtl,y_predsgs2)"
   ]
  },
  {
   "cell_type": "markdown",
   "metadata": {},
   "source": [
    "## - Though it got a higher score on the training set, it did worse on the test set\n",
    "## - It appears it overfits to training data when I use recall score\n",
    "## - I will keep the 1st Decision Tree GridSearch and I won't save this one"
   ]
  },
  {
   "cell_type": "markdown",
   "metadata": {},
   "source": [
    "# Random Forest - Grid Search"
   ]
  },
  {
   "cell_type": "markdown",
   "metadata": {},
   "source": [
    "## For my first Random Forest Grid Search, I will be scoring on F1"
   ]
  },
  {
   "cell_type": "code",
   "execution_count": 15,
   "metadata": {
    "scrolled": false
   },
   "outputs": [
    {
     "name": "stdout",
     "output_type": "stream",
     "text": [
      "Fitting 3 folds for each of 12600 candidates, totalling 37800 fits\n"
     ]
    },
    {
     "name": "stderr",
     "output_type": "stream",
     "text": [
      "[Parallel(n_jobs=-2)]: Using backend LokyBackend with 11 concurrent workers.\n",
      "[Parallel(n_jobs=-2)]: Done  34 tasks      | elapsed:    0.6s\n",
      "[Parallel(n_jobs=-2)]: Done 334 tasks      | elapsed:    7.4s\n",
      "[Parallel(n_jobs=-2)]: Done 834 tasks      | elapsed:   27.4s\n",
      "[Parallel(n_jobs=-2)]: Done 1534 tasks      | elapsed:   55.6s\n",
      "[Parallel(n_jobs=-2)]: Done 2339 tasks      | elapsed:  1.5min\n",
      "[Parallel(n_jobs=-2)]: Done 2889 tasks      | elapsed:  1.7min\n",
      "[Parallel(n_jobs=-2)]: Done 3539 tasks      | elapsed:  2.2min\n",
      "[Parallel(n_jobs=-2)]: Done 4289 tasks      | elapsed:  2.7min\n",
      "[Parallel(n_jobs=-2)]: Done 5139 tasks      | elapsed:  3.3min\n",
      "[Parallel(n_jobs=-2)]: Done 6089 tasks      | elapsed:  3.9min\n",
      "[Parallel(n_jobs=-2)]: Done 7139 tasks      | elapsed:  4.9min\n",
      "[Parallel(n_jobs=-2)]: Done 8289 tasks      | elapsed:  5.7min\n",
      "[Parallel(n_jobs=-2)]: Done 9539 tasks      | elapsed:  6.6min\n",
      "[Parallel(n_jobs=-2)]: Done 10889 tasks      | elapsed:  7.6min\n",
      "[Parallel(n_jobs=-2)]: Done 12339 tasks      | elapsed:  8.7min\n",
      "[Parallel(n_jobs=-2)]: Done 13889 tasks      | elapsed:  9.8min\n",
      "[Parallel(n_jobs=-2)]: Done 15539 tasks      | elapsed: 11.2min\n",
      "[Parallel(n_jobs=-2)]: Done 17289 tasks      | elapsed: 12.4min\n",
      "[Parallel(n_jobs=-2)]: Done 19139 tasks      | elapsed: 13.9min\n",
      "[Parallel(n_jobs=-2)]: Done 21089 tasks      | elapsed: 15.5min\n",
      "[Parallel(n_jobs=-2)]: Done 23139 tasks      | elapsed: 16.9min\n",
      "[Parallel(n_jobs=-2)]: Done 25289 tasks      | elapsed: 18.5min\n",
      "[Parallel(n_jobs=-2)]: Done 27539 tasks      | elapsed: 20.2min\n",
      "[Parallel(n_jobs=-2)]: Done 29889 tasks      | elapsed: 22.2min\n",
      "[Parallel(n_jobs=-2)]: Done 32339 tasks      | elapsed: 24.3min\n",
      "[Parallel(n_jobs=-2)]: Done 34889 tasks      | elapsed: 26.3min\n",
      "[Parallel(n_jobs=-2)]: Done 37539 tasks      | elapsed: 28.5min\n",
      "[Parallel(n_jobs=-2)]: Done 37800 out of 37800 | elapsed: 28.7min finished\n"
     ]
    },
    {
     "data": {
      "text/plain": [
       "GridSearchCV(cv=3,\n",
       "             estimator=RandomForestClassifier(class_weight='balanced',\n",
       "                                              random_state=1),\n",
       "             n_jobs=-2,\n",
       "             param_grid={'criterion': ['gini', 'entropy'],\n",
       "                         'max_depth': range(3, 10),\n",
       "                         'max_leaf_nodes': range(0, 30),\n",
       "                         'min_samples_leaf': range(5, 20),\n",
       "                         'n_estimators': [100, 200]},\n",
       "             scoring='f1', verbose=1)"
      ]
     },
     "execution_count": 15,
     "metadata": {},
     "output_type": "execute_result"
    }
   ],
   "source": [
    "rf = RandomForestClassifier(class_weight='balanced', random_state=1)\n",
    "param_dictrf={'n_estimators': [100,200], 'max_depth': range(3,10,1), 'criterion': ['gini','entropy'],'min_samples_leaf' : range(5,20,1), 'max_leaf_nodes': range(0,30,1)}\n",
    "gs_forest=GridSearchCV(rf,param_dictrf,scoring='f1',cv=3,verbose=1,n_jobs=-2)\n",
    "gs_forest.fit(X_res,y_res)"
   ]
  },
  {
   "cell_type": "code",
   "execution_count": 16,
   "metadata": {},
   "outputs": [
    {
     "data": {
      "text/plain": [
       "{'criterion': 'entropy',\n",
       " 'max_depth': 6,\n",
       " 'max_leaf_nodes': 29,\n",
       " 'min_samples_leaf': 5,\n",
       " 'n_estimators': 200}"
      ]
     },
     "execution_count": 16,
     "metadata": {},
     "output_type": "execute_result"
    }
   ],
   "source": [
    "gs_forest.best_params_"
   ]
  },
  {
   "cell_type": "code",
   "execution_count": 45,
   "metadata": {
    "scrolled": true
   },
   "outputs": [
    {
     "data": {
      "text/plain": [
       "array([0.02577201, 0.13089939, 0.05739601, 0.02420921, 0.2853505 ,\n",
       "       0.02119778, 0.08372057, 0.02053281, 0.0414663 , 0.04456235,\n",
       "       0.05409738, 0.2072108 , 0.00358489])"
      ]
     },
     "execution_count": 45,
     "metadata": {},
     "output_type": "execute_result"
    }
   ],
   "source": [
    "gs_forest.best_estimator_.feature_importances_"
   ]
  },
  {
   "cell_type": "code",
   "execution_count": 76,
   "metadata": {},
   "outputs": [
    {
     "data": {
      "text/plain": [
       "0.819672131147541"
      ]
     },
     "execution_count": 76,
     "metadata": {},
     "output_type": "execute_result"
    }
   ],
   "source": [
    "gs_forest.best_score_\n",
    "\n",
    "y_predsgsf=gs_forest.best_estimator_.predict(X_testtl)\n",
    "recall_score(y_testtl,y_predsgsf)"
   ]
  },
  {
   "cell_type": "code",
   "execution_count": 75,
   "metadata": {},
   "outputs": [
    {
     "data": {
      "text/plain": [
       "0.7299270072992702"
      ]
     },
     "execution_count": 75,
     "metadata": {},
     "output_type": "execute_result"
    }
   ],
   "source": [
    "gs_forest.best_score_\n",
    "\n",
    "y_predsgsf=gs_forest.best_estimator_.predict(X_testtl)\n",
    "recall_score(y_testtl,y_predsgsf)\n",
    "\n",
    "f1_score(y_testtl,y_predsgsf)\n"
   ]
  },
  {
   "cell_type": "code",
   "execution_count": 74,
   "metadata": {},
   "outputs": [],
   "source": [
    "\n",
    "mod = open('gs_forest.pkl', 'wb')\n",
    "pickle.dump(gs_forest.best_estimator_, mod)\n",
    "mod.close()"
   ]
  },
  {
   "cell_type": "markdown",
   "metadata": {},
   "source": [
    "## For my second Random Forest Grid Search, I will be scoring on recall"
   ]
  },
  {
   "cell_type": "code",
   "execution_count": 72,
   "metadata": {
    "scrolled": true
   },
   "outputs": [
    {
     "name": "stdout",
     "output_type": "stream",
     "text": [
      "Fitting 3 folds for each of 4992 candidates, totalling 14976 fits\n"
     ]
    },
    {
     "name": "stderr",
     "output_type": "stream",
     "text": [
      "[Parallel(n_jobs=-2)]: Using backend LokyBackend with 11 concurrent workers.\n",
      "[Parallel(n_jobs=-2)]: Done  28 tasks      | elapsed:    3.1s\n",
      "[Parallel(n_jobs=-2)]: Done 178 tasks      | elapsed:    8.7s\n",
      "[Parallel(n_jobs=-2)]: Done 428 tasks      | elapsed:   19.0s\n",
      "[Parallel(n_jobs=-2)]: Done 778 tasks      | elapsed:   33.7s\n",
      "[Parallel(n_jobs=-2)]: Done 1228 tasks      | elapsed:   54.2s\n",
      "[Parallel(n_jobs=-2)]: Done 1778 tasks      | elapsed:  1.3min\n",
      "[Parallel(n_jobs=-2)]: Done 2428 tasks      | elapsed:  1.7min\n",
      "[Parallel(n_jobs=-2)]: Done 3178 tasks      | elapsed:  2.3min\n",
      "[Parallel(n_jobs=-2)]: Done 4028 tasks      | elapsed:  2.9min\n",
      "[Parallel(n_jobs=-2)]: Done 4978 tasks      | elapsed:  3.6min\n",
      "[Parallel(n_jobs=-2)]: Done 6028 tasks      | elapsed:  4.4min\n",
      "[Parallel(n_jobs=-2)]: Done 7178 tasks      | elapsed:  5.3min\n",
      "[Parallel(n_jobs=-2)]: Done 8428 tasks      | elapsed:  6.3min\n",
      "[Parallel(n_jobs=-2)]: Done 9778 tasks      | elapsed:  7.2min\n",
      "[Parallel(n_jobs=-2)]: Done 11228 tasks      | elapsed:  8.3min\n",
      "[Parallel(n_jobs=-2)]: Done 12778 tasks      | elapsed:  9.6min\n",
      "[Parallel(n_jobs=-2)]: Done 14428 tasks      | elapsed: 11.0min\n",
      "[Parallel(n_jobs=-2)]: Done 14976 out of 14976 | elapsed: 11.4min finished\n"
     ]
    },
    {
     "data": {
      "text/plain": [
       "GridSearchCV(cv=3,\n",
       "             estimator=RandomForestClassifier(class_weight='balanced',\n",
       "                                              random_state=1),\n",
       "             n_jobs=-2,\n",
       "             param_grid={'criterion': ['gini', 'entropy'],\n",
       "                         'max_depth': range(3, 7),\n",
       "                         'max_leaf_nodes': range(20, 32),\n",
       "                         'min_samples_leaf': range(1, 27),\n",
       "                         'n_estimators': [100, 200]},\n",
       "             scoring='recall', verbose=1)"
      ]
     },
     "execution_count": 72,
     "metadata": {},
     "output_type": "execute_result"
    }
   ],
   "source": [
    "rf2 = RandomForestClassifier(class_weight='balanced', random_state=1)\n",
    "param_dictrf2={'n_estimators': [100,200], 'max_depth': range(3,7,1), 'criterion': ['gini','entropy'],'min_samples_leaf' : range(1,27,1), 'max_leaf_nodes': range(20,32,1)}\n",
    "gs_forest2=GridSearchCV(rf2,param_dictrf2,scoring='recall',cv=3,verbose=1,n_jobs=-2)\n",
    "gs_forest2.fit(X_res,y_res)"
   ]
  },
  {
   "cell_type": "code",
   "execution_count": 73,
   "metadata": {},
   "outputs": [
    {
     "data": {
      "text/plain": [
       "0.8421028466483013"
      ]
     },
     "execution_count": 73,
     "metadata": {},
     "output_type": "execute_result"
    }
   ],
   "source": [
    "gs_forest2.best_score_"
   ]
  },
  {
   "cell_type": "code",
   "execution_count": 77,
   "metadata": {
    "scrolled": true
   },
   "outputs": [
    {
     "data": {
      "text/plain": [
       "0.8278688524590164"
      ]
     },
     "execution_count": 77,
     "metadata": {},
     "output_type": "execute_result"
    }
   ],
   "source": [
    "y_predsgsf2=gs_forest2.best_estimator_.predict(X_testtl)\n",
    "recall_score(y_testtl,y_predsgsf2)"
   ]
  },
  {
   "cell_type": "code",
   "execution_count": 78,
   "metadata": {
    "scrolled": true
   },
   "outputs": [
    {
     "data": {
      "text/plain": [
       "0.6579804560260586"
      ]
     },
     "execution_count": 78,
     "metadata": {},
     "output_type": "execute_result"
    }
   ],
   "source": [
    "f1_score(y_testtl,y_predsgsf2)"
   ]
  },
  {
   "cell_type": "markdown",
   "metadata": {},
   "source": [
    "## I will be saving both the 1st and 2nd Random Forest Grid Search. Although the second Grid Search had a higher recall, it came at a slight hit to F1. I am primarily interested in Recall but do not want a poor F1, either. I will be saving both models to use in my voting classifier and see what each model can contribute.\n"
   ]
  },
  {
   "cell_type": "code",
   "execution_count": 79,
   "metadata": {},
   "outputs": [],
   "source": [
    "mod = open('gs_forest2.pkl', 'wb')\n",
    "pickle.dump(gs_forest2.best_estimator_, mod)\n",
    "mod.close()"
   ]
  },
  {
   "cell_type": "markdown",
   "metadata": {},
   "source": [
    "## Voting Classifier"
   ]
  },
  {
   "cell_type": "code",
   "execution_count": 88,
   "metadata": {},
   "outputs": [],
   "source": [
    "knn3 = pickle.load(open('knn3.pkl', 'rb'))"
   ]
  },
  {
   "cell_type": "code",
   "execution_count": 89,
   "metadata": {},
   "outputs": [],
   "source": [
    "X_trainvc, X_testvc, y_trainvc, y_testvc = train_test_split(X, y, random_state=1)"
   ]
  },
  {
   "cell_type": "code",
   "execution_count": 90,
   "metadata": {},
   "outputs": [],
   "source": [
    "vclf = VotingClassifier(estimators=[('gs_forest', gs_forest), ('knn3', knn3), ('gs', gs), ('gs_forest2', gs_forest2)], voting = 'hard')\n",
    "\n"
   ]
  },
  {
   "cell_type": "code",
   "execution_count": 92,
   "metadata": {},
   "outputs": [
    {
     "name": "stdout",
     "output_type": "stream",
     "text": [
      "Fitting 3 folds for each of 12600 candidates, totalling 37800 fits\n"
     ]
    },
    {
     "name": "stderr",
     "output_type": "stream",
     "text": [
      "[Parallel(n_jobs=-2)]: Using backend LokyBackend with 11 concurrent workers.\n",
      "[Parallel(n_jobs=-2)]: Done  28 tasks      | elapsed:    1.7s\n",
      "[Parallel(n_jobs=-2)]: Done 213 tasks      | elapsed:    4.6s\n",
      "[Parallel(n_jobs=-2)]: Done 711 tasks      | elapsed:   24.6s\n",
      "[Parallel(n_jobs=-2)]: Done 1064 tasks      | elapsed:   38.8s\n",
      "[Parallel(n_jobs=-2)]: Done 1514 tasks      | elapsed:   57.0s\n",
      "[Parallel(n_jobs=-2)]: Done 2064 tasks      | elapsed:  1.3min\n",
      "[Parallel(n_jobs=-2)]: Done 2714 tasks      | elapsed:  1.8min\n",
      "[Parallel(n_jobs=-2)]: Done 3464 tasks      | elapsed:  2.2min\n",
      "[Parallel(n_jobs=-2)]: Done 4314 tasks      | elapsed:  2.9min\n",
      "[Parallel(n_jobs=-2)]: Done 5264 tasks      | elapsed:  3.6min\n",
      "[Parallel(n_jobs=-2)]: Done 6314 tasks      | elapsed:  4.4min\n",
      "[Parallel(n_jobs=-2)]: Done 7464 tasks      | elapsed:  5.3min\n",
      "[Parallel(n_jobs=-2)]: Done 8714 tasks      | elapsed:  6.3min\n",
      "[Parallel(n_jobs=-2)]: Done 10064 tasks      | elapsed:  7.4min\n",
      "[Parallel(n_jobs=-2)]: Done 11514 tasks      | elapsed:  8.6min\n",
      "[Parallel(n_jobs=-2)]: Done 13064 tasks      | elapsed:  9.9min\n",
      "[Parallel(n_jobs=-2)]: Done 14714 tasks      | elapsed: 11.1min\n",
      "[Parallel(n_jobs=-2)]: Done 16464 tasks      | elapsed: 12.5min\n",
      "[Parallel(n_jobs=-2)]: Done 18314 tasks      | elapsed: 14.2min\n",
      "[Parallel(n_jobs=-2)]: Done 20264 tasks      | elapsed: 15.6min\n",
      "[Parallel(n_jobs=-2)]: Done 22314 tasks      | elapsed: 17.1min\n",
      "[Parallel(n_jobs=-2)]: Done 24464 tasks      | elapsed: 18.7min\n",
      "[Parallel(n_jobs=-2)]: Done 26714 tasks      | elapsed: 20.7min\n",
      "[Parallel(n_jobs=-2)]: Done 29064 tasks      | elapsed: 22.6min\n",
      "[Parallel(n_jobs=-2)]: Done 31514 tasks      | elapsed: 24.7min\n",
      "[Parallel(n_jobs=-2)]: Done 34064 tasks      | elapsed: 26.8min\n",
      "[Parallel(n_jobs=-2)]: Done 36714 tasks      | elapsed: 29.1min\n",
      "[Parallel(n_jobs=-2)]: Done 37800 out of 37800 | elapsed: 30.1min finished\n"
     ]
    },
    {
     "name": "stdout",
     "output_type": "stream",
     "text": [
      "Fitting 3 folds for each of 16200 candidates, totalling 48600 fits\n"
     ]
    },
    {
     "name": "stderr",
     "output_type": "stream",
     "text": [
      "[Parallel(n_jobs=-1)]: Using backend LokyBackend with 12 concurrent workers.\n",
      "[Parallel(n_jobs=-1)]: Done  28 tasks      | elapsed:    0.2s\n",
      "[Parallel(n_jobs=-1)]: Done 1640 tasks      | elapsed:    2.4s\n",
      "[Parallel(n_jobs=-1)]: Done 5640 tasks      | elapsed:    7.6s\n",
      "[Parallel(n_jobs=-1)]: Done 11240 tasks      | elapsed:   16.0s\n",
      "[Parallel(n_jobs=-1)]: Done 18440 tasks      | elapsed:   26.5s\n",
      "[Parallel(n_jobs=-1)]: Done 27240 tasks      | elapsed:   38.4s\n",
      "[Parallel(n_jobs=-1)]: Done 37640 tasks      | elapsed:   52.3s\n",
      "[Parallel(n_jobs=-1)]: Done 48600 out of 48600 | elapsed:  1.2min finished\n",
      "[Parallel(n_jobs=-2)]: Using backend LokyBackend with 11 concurrent workers.\n"
     ]
    },
    {
     "name": "stdout",
     "output_type": "stream",
     "text": [
      "Fitting 3 folds for each of 4992 candidates, totalling 14976 fits\n"
     ]
    },
    {
     "name": "stderr",
     "output_type": "stream",
     "text": [
      "[Parallel(n_jobs=-2)]: Done  28 tasks      | elapsed:    1.4s\n",
      "[Parallel(n_jobs=-2)]: Done 178 tasks      | elapsed:    8.4s\n",
      "[Parallel(n_jobs=-2)]: Done 428 tasks      | elapsed:   19.4s\n",
      "[Parallel(n_jobs=-2)]: Done 778 tasks      | elapsed:   33.7s\n",
      "[Parallel(n_jobs=-2)]: Done 1228 tasks      | elapsed:   52.6s\n",
      "[Parallel(n_jobs=-2)]: Done 1778 tasks      | elapsed:  1.3min\n",
      "[Parallel(n_jobs=-2)]: Done 2428 tasks      | elapsed:  1.8min\n",
      "[Parallel(n_jobs=-2)]: Done 3178 tasks      | elapsed:  2.3min\n",
      "[Parallel(n_jobs=-2)]: Done 4028 tasks      | elapsed:  3.0min\n",
      "[Parallel(n_jobs=-2)]: Done 4978 tasks      | elapsed:  3.7min\n",
      "[Parallel(n_jobs=-2)]: Done 6028 tasks      | elapsed:  4.6min\n",
      "[Parallel(n_jobs=-2)]: Done 7178 tasks      | elapsed:  5.6min\n",
      "[Parallel(n_jobs=-2)]: Done 8428 tasks      | elapsed:  6.5min\n",
      "[Parallel(n_jobs=-2)]: Done 9778 tasks      | elapsed:  7.6min\n",
      "[Parallel(n_jobs=-2)]: Done 11228 tasks      | elapsed:  8.7min\n",
      "[Parallel(n_jobs=-2)]: Done 12778 tasks      | elapsed: 10.1min\n",
      "[Parallel(n_jobs=-2)]: Done 14428 tasks      | elapsed: 11.6min\n",
      "[Parallel(n_jobs=-2)]: Done 14976 out of 14976 | elapsed: 12.1min finished\n"
     ]
    }
   ],
   "source": [
    "vclf = vclf.fit(X_trainvc,y_trainvc)"
   ]
  },
  {
   "cell_type": "code",
   "execution_count": 93,
   "metadata": {},
   "outputs": [],
   "source": [
    "preds = vclf.predict(X_testvc)"
   ]
  },
  {
   "cell_type": "code",
   "execution_count": 94,
   "metadata": {},
   "outputs": [
    {
     "data": {
      "text/plain": [
       "0.7389558232931727"
      ]
     },
     "execution_count": 94,
     "metadata": {},
     "output_type": "execute_result"
    }
   ],
   "source": [
    "f1_score(y_testvc, preds)"
   ]
  },
  {
   "cell_type": "code",
   "execution_count": 95,
   "metadata": {},
   "outputs": [
    {
     "data": {
      "text/plain": [
       "0.7540983606557377"
      ]
     },
     "execution_count": 95,
     "metadata": {},
     "output_type": "execute_result"
    }
   ],
   "source": [
    "recall_score(y_testvc, preds)"
   ]
  },
  {
   "cell_type": "code",
   "execution_count": 58,
   "metadata": {},
   "outputs": [],
   "source": [
    "mod = open('vclf.pkl', 'wb')\n",
    "pickle.dump(vclf, mod)\n",
    "mod.close()"
   ]
  },
  {
   "cell_type": "code",
   "execution_count": 96,
   "metadata": {},
   "outputs": [
    {
     "name": "stdout",
     "output_type": "stream",
     "text": [
      "Fitting 3 folds for each of 12600 candidates, totalling 37800 fits\n"
     ]
    },
    {
     "name": "stderr",
     "output_type": "stream",
     "text": [
      "[Parallel(n_jobs=-2)]: Using backend LokyBackend with 11 concurrent workers.\n",
      "[Parallel(n_jobs=-2)]: Done  34 tasks      | elapsed:    0.5s\n",
      "[Parallel(n_jobs=-2)]: Done 334 tasks      | elapsed:    7.5s\n",
      "[Parallel(n_jobs=-2)]: Done 834 tasks      | elapsed:   27.7s\n",
      "[Parallel(n_jobs=-2)]: Done 1534 tasks      | elapsed:   56.2s\n",
      "[Parallel(n_jobs=-2)]: Done 2086 tasks      | elapsed:  1.3min\n",
      "[Parallel(n_jobs=-2)]: Done 2636 tasks      | elapsed:  1.7min\n",
      "[Parallel(n_jobs=-2)]: Done 3286 tasks      | elapsed:  2.1min\n",
      "[Parallel(n_jobs=-2)]: Done 4036 tasks      | elapsed:  2.6min\n",
      "[Parallel(n_jobs=-2)]: Done 4886 tasks      | elapsed:  3.3min\n",
      "[Parallel(n_jobs=-2)]: Done 5836 tasks      | elapsed:  3.9min\n",
      "[Parallel(n_jobs=-2)]: Done 6886 tasks      | elapsed:  4.6min\n",
      "[Parallel(n_jobs=-2)]: Done 8036 tasks      | elapsed:  5.6min\n",
      "[Parallel(n_jobs=-2)]: Done 9286 tasks      | elapsed:  6.4min\n",
      "[Parallel(n_jobs=-2)]: Done 10636 tasks      | elapsed:  7.5min\n",
      "[Parallel(n_jobs=-2)]: Done 12086 tasks      | elapsed:  8.5min\n",
      "[Parallel(n_jobs=-2)]: Done 13636 tasks      | elapsed:  9.8min\n",
      "[Parallel(n_jobs=-2)]: Done 15286 tasks      | elapsed: 11.0min\n",
      "[Parallel(n_jobs=-2)]: Done 17036 tasks      | elapsed: 12.4min\n",
      "[Parallel(n_jobs=-2)]: Done 18886 tasks      | elapsed: 13.9min\n",
      "[Parallel(n_jobs=-2)]: Done 20836 tasks      | elapsed: 15.3min\n",
      "[Parallel(n_jobs=-2)]: Done 22886 tasks      | elapsed: 16.7min\n",
      "[Parallel(n_jobs=-2)]: Done 25036 tasks      | elapsed: 18.3min\n",
      "[Parallel(n_jobs=-2)]: Done 27286 tasks      | elapsed: 20.1min\n",
      "[Parallel(n_jobs=-2)]: Done 29636 tasks      | elapsed: 22.1min\n",
      "[Parallel(n_jobs=-2)]: Done 32086 tasks      | elapsed: 24.1min\n",
      "[Parallel(n_jobs=-2)]: Done 34636 tasks      | elapsed: 26.2min\n",
      "[Parallel(n_jobs=-2)]: Done 37286 tasks      | elapsed: 28.4min\n",
      "[Parallel(n_jobs=-2)]: Done 37800 out of 37800 | elapsed: 28.9min finished\n"
     ]
    },
    {
     "name": "stdout",
     "output_type": "stream",
     "text": [
      "Fitting 3 folds for each of 16200 candidates, totalling 48600 fits\n"
     ]
    },
    {
     "name": "stderr",
     "output_type": "stream",
     "text": [
      "[Parallel(n_jobs=-1)]: Using backend LokyBackend with 12 concurrent workers.\n",
      "[Parallel(n_jobs=-1)]: Done  28 tasks      | elapsed:    0.2s\n",
      "[Parallel(n_jobs=-1)]: Done 1640 tasks      | elapsed:    2.3s\n",
      "[Parallel(n_jobs=-1)]: Done 5640 tasks      | elapsed:    7.4s\n",
      "[Parallel(n_jobs=-1)]: Done 11240 tasks      | elapsed:   15.3s\n",
      "[Parallel(n_jobs=-1)]: Done 18440 tasks      | elapsed:   25.6s\n",
      "[Parallel(n_jobs=-1)]: Done 27240 tasks      | elapsed:   37.5s\n",
      "[Parallel(n_jobs=-1)]: Done 37640 tasks      | elapsed:   51.3s\n",
      "[Parallel(n_jobs=-1)]: Done 48600 out of 48600 | elapsed:  1.1min finished\n",
      "[Parallel(n_jobs=-2)]: Using backend LokyBackend with 11 concurrent workers.\n"
     ]
    },
    {
     "name": "stdout",
     "output_type": "stream",
     "text": [
      "Fitting 3 folds for each of 4992 candidates, totalling 14976 fits\n"
     ]
    },
    {
     "name": "stderr",
     "output_type": "stream",
     "text": [
      "[Parallel(n_jobs=-2)]: Done  28 tasks      | elapsed:    1.3s\n",
      "[Parallel(n_jobs=-2)]: Done 178 tasks      | elapsed:    7.5s\n",
      "[Parallel(n_jobs=-2)]: Done 428 tasks      | elapsed:   18.7s\n",
      "[Parallel(n_jobs=-2)]: Done 778 tasks      | elapsed:   33.0s\n",
      "[Parallel(n_jobs=-2)]: Done 1228 tasks      | elapsed:   51.5s\n",
      "[Parallel(n_jobs=-2)]: Done 1778 tasks      | elapsed:  1.2min\n",
      "[Parallel(n_jobs=-2)]: Done 2428 tasks      | elapsed:  1.7min\n",
      "[Parallel(n_jobs=-2)]: Done 3178 tasks      | elapsed:  2.3min\n",
      "[Parallel(n_jobs=-2)]: Done 4028 tasks      | elapsed:  2.9min\n",
      "[Parallel(n_jobs=-2)]: Done 4978 tasks      | elapsed:  3.7min\n",
      "[Parallel(n_jobs=-2)]: Done 6028 tasks      | elapsed:  4.5min\n",
      "[Parallel(n_jobs=-2)]: Done 7178 tasks      | elapsed:  5.5min\n",
      "[Parallel(n_jobs=-2)]: Done 8428 tasks      | elapsed:  6.4min\n",
      "[Parallel(n_jobs=-2)]: Done 9778 tasks      | elapsed:  7.4min\n",
      "[Parallel(n_jobs=-2)]: Done 11228 tasks      | elapsed:  8.6min\n",
      "[Parallel(n_jobs=-2)]: Done 12778 tasks      | elapsed:  9.9min\n",
      "[Parallel(n_jobs=-2)]: Done 14428 tasks      | elapsed: 11.3min\n",
      "[Parallel(n_jobs=-2)]: Done 14976 out of 14976 | elapsed: 11.8min finished\n"
     ]
    }
   ],
   "source": [
    "vclf2 = VotingClassifier(estimators=[('gs_forest', gs_forest), ('knn3', knn3), ('gs', gs), ('gs_forest2', gs_forest2)], voting = 'soft')\n",
    "vclf2 = vclf2.fit(X_trainvc,y_trainvc)"
   ]
  },
  {
   "cell_type": "code",
   "execution_count": 97,
   "metadata": {},
   "outputs": [],
   "source": [
    "preds2 = vclf2.predict(X_testvc)"
   ]
  },
  {
   "cell_type": "code",
   "execution_count": 99,
   "metadata": {},
   "outputs": [
    {
     "data": {
      "text/plain": [
       "0.7603305785123967"
      ]
     },
     "execution_count": 99,
     "metadata": {},
     "output_type": "execute_result"
    }
   ],
   "source": [
    "f1_score(y_testvc, preds2)"
   ]
  },
  {
   "cell_type": "code",
   "execution_count": 100,
   "metadata": {},
   "outputs": [
    {
     "data": {
      "text/plain": [
       "0.7540983606557377"
      ]
     },
     "execution_count": 100,
     "metadata": {},
     "output_type": "execute_result"
    }
   ],
   "source": [
    "recall_score(y_testvc, preds2)"
   ]
  },
  {
   "cell_type": "code",
   "execution_count": 65,
   "metadata": {},
   "outputs": [],
   "source": [
    "mod = open('vclf2.pkl', 'wb')\n",
    "pickle.dump(vclf2, mod)\n",
    "mod.close()"
   ]
  },
  {
   "cell_type": "code",
   "execution_count": 71,
   "metadata": {},
   "outputs": [
    {
     "data": {
      "text/plain": [
       "13"
      ]
     },
     "execution_count": 71,
     "metadata": {},
     "output_type": "execute_result"
    }
   ],
   "source": [
    "vclf2.n_features_in_"
   ]
  },
  {
   "cell_type": "code",
   "execution_count": null,
   "metadata": {},
   "outputs": [],
   "source": []
  }
 ],
 "metadata": {
  "kernelspec": {
   "display_name": "Python 3",
   "language": "python",
   "name": "python3"
  },
  "language_info": {
   "codemirror_mode": {
    "name": "ipython",
    "version": 3
   },
   "file_extension": ".py",
   "mimetype": "text/x-python",
   "name": "python",
   "nbconvert_exporter": "python",
   "pygments_lexer": "ipython3",
   "version": "3.7.6"
  }
 },
 "nbformat": 4,
 "nbformat_minor": 4
}
