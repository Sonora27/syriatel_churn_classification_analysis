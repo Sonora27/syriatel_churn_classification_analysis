{
 "cells": [
  {
   "cell_type": "code",
   "execution_count": 1,
   "metadata": {},
   "outputs": [],
   "source": [
    "import pandas as pd\n",
    "import numpy as np\n",
    "import matplotlib.pyplot as plt\n",
    "%matplotlib inline\n",
    "import seaborn as sns\n",
    "import scipy.stats as stats\n",
    "from statsmodels.stats.proportion import proportions_ztest\n",
    "from sklearn.model_selection import GridSearchCV\n",
    "from sklearn.model_selection import train_test_split\n",
    "from sklearn.metrics import accuracy_score, f1_score, recall_score\n",
    "from sklearn import metrics\n",
    "from sklearn.tree import DecisionTreeClassifier\n",
    "from sklearn.ensemble import RandomForestClassifier, VotingClassifier\n",
    "from collections import Counter\n",
    "from imblearn.under_sampling import TomekLinks\n",
    "import pickle\n",
    "\n",
    "pd.set_option('display.max_rows', 500)\n",
    "pd.set_option('display.max_columns', 500)\n",
    "\n",
    "\n",
    "churn = pd.read_csv('churn.csv', index_col=0)"
   ]
  },
  {
   "cell_type": "code",
   "execution_count": 2,
   "metadata": {},
   "outputs": [
    {
     "data": {
      "text/html": [
       "<div>\n",
       "<style scoped>\n",
       "    .dataframe tbody tr th:only-of-type {\n",
       "        vertical-align: middle;\n",
       "    }\n",
       "\n",
       "    .dataframe tbody tr th {\n",
       "        vertical-align: top;\n",
       "    }\n",
       "\n",
       "    .dataframe thead th {\n",
       "        text-align: right;\n",
       "    }\n",
       "</style>\n",
       "<table border=\"1\" class=\"dataframe\">\n",
       "  <thead>\n",
       "    <tr style=\"text-align: right;\">\n",
       "      <th></th>\n",
       "      <th>account length</th>\n",
       "      <th>international plan</th>\n",
       "      <th>number vmail messages</th>\n",
       "      <th>total day calls</th>\n",
       "      <th>total day charge</th>\n",
       "      <th>total eve calls</th>\n",
       "      <th>total eve charge</th>\n",
       "      <th>total night calls</th>\n",
       "      <th>total night charge</th>\n",
       "      <th>total intl calls</th>\n",
       "      <th>total intl charge</th>\n",
       "      <th>customer service calls</th>\n",
       "      <th>churn</th>\n",
       "      <th>top user states</th>\n",
       "    </tr>\n",
       "  </thead>\n",
       "  <tbody>\n",
       "    <tr>\n",
       "      <th>0</th>\n",
       "      <td>128</td>\n",
       "      <td>0</td>\n",
       "      <td>25</td>\n",
       "      <td>110</td>\n",
       "      <td>45.07</td>\n",
       "      <td>99</td>\n",
       "      <td>16.78</td>\n",
       "      <td>91</td>\n",
       "      <td>11.01</td>\n",
       "      <td>3</td>\n",
       "      <td>2.70</td>\n",
       "      <td>1</td>\n",
       "      <td>0</td>\n",
       "      <td>1</td>\n",
       "    </tr>\n",
       "    <tr>\n",
       "      <th>1</th>\n",
       "      <td>107</td>\n",
       "      <td>0</td>\n",
       "      <td>26</td>\n",
       "      <td>123</td>\n",
       "      <td>27.47</td>\n",
       "      <td>103</td>\n",
       "      <td>16.62</td>\n",
       "      <td>103</td>\n",
       "      <td>11.45</td>\n",
       "      <td>3</td>\n",
       "      <td>3.70</td>\n",
       "      <td>1</td>\n",
       "      <td>0</td>\n",
       "      <td>1</td>\n",
       "    </tr>\n",
       "    <tr>\n",
       "      <th>2</th>\n",
       "      <td>137</td>\n",
       "      <td>0</td>\n",
       "      <td>0</td>\n",
       "      <td>114</td>\n",
       "      <td>41.38</td>\n",
       "      <td>110</td>\n",
       "      <td>10.30</td>\n",
       "      <td>104</td>\n",
       "      <td>7.32</td>\n",
       "      <td>5</td>\n",
       "      <td>3.29</td>\n",
       "      <td>0</td>\n",
       "      <td>0</td>\n",
       "      <td>1</td>\n",
       "    </tr>\n",
       "    <tr>\n",
       "      <th>3</th>\n",
       "      <td>84</td>\n",
       "      <td>1</td>\n",
       "      <td>0</td>\n",
       "      <td>71</td>\n",
       "      <td>50.90</td>\n",
       "      <td>88</td>\n",
       "      <td>5.26</td>\n",
       "      <td>89</td>\n",
       "      <td>8.86</td>\n",
       "      <td>7</td>\n",
       "      <td>1.78</td>\n",
       "      <td>2</td>\n",
       "      <td>0</td>\n",
       "      <td>1</td>\n",
       "    </tr>\n",
       "    <tr>\n",
       "      <th>4</th>\n",
       "      <td>75</td>\n",
       "      <td>1</td>\n",
       "      <td>0</td>\n",
       "      <td>113</td>\n",
       "      <td>28.34</td>\n",
       "      <td>122</td>\n",
       "      <td>12.61</td>\n",
       "      <td>121</td>\n",
       "      <td>8.41</td>\n",
       "      <td>3</td>\n",
       "      <td>2.73</td>\n",
       "      <td>3</td>\n",
       "      <td>0</td>\n",
       "      <td>0</td>\n",
       "    </tr>\n",
       "    <tr>\n",
       "      <th>...</th>\n",
       "      <td>...</td>\n",
       "      <td>...</td>\n",
       "      <td>...</td>\n",
       "      <td>...</td>\n",
       "      <td>...</td>\n",
       "      <td>...</td>\n",
       "      <td>...</td>\n",
       "      <td>...</td>\n",
       "      <td>...</td>\n",
       "      <td>...</td>\n",
       "      <td>...</td>\n",
       "      <td>...</td>\n",
       "      <td>...</td>\n",
       "      <td>...</td>\n",
       "    </tr>\n",
       "    <tr>\n",
       "      <th>3328</th>\n",
       "      <td>192</td>\n",
       "      <td>0</td>\n",
       "      <td>36</td>\n",
       "      <td>77</td>\n",
       "      <td>26.55</td>\n",
       "      <td>126</td>\n",
       "      <td>18.32</td>\n",
       "      <td>83</td>\n",
       "      <td>12.56</td>\n",
       "      <td>6</td>\n",
       "      <td>2.67</td>\n",
       "      <td>2</td>\n",
       "      <td>0</td>\n",
       "      <td>0</td>\n",
       "    </tr>\n",
       "    <tr>\n",
       "      <th>3329</th>\n",
       "      <td>68</td>\n",
       "      <td>0</td>\n",
       "      <td>0</td>\n",
       "      <td>57</td>\n",
       "      <td>39.29</td>\n",
       "      <td>55</td>\n",
       "      <td>13.04</td>\n",
       "      <td>123</td>\n",
       "      <td>8.61</td>\n",
       "      <td>4</td>\n",
       "      <td>2.59</td>\n",
       "      <td>3</td>\n",
       "      <td>0</td>\n",
       "      <td>1</td>\n",
       "    </tr>\n",
       "    <tr>\n",
       "      <th>3330</th>\n",
       "      <td>28</td>\n",
       "      <td>0</td>\n",
       "      <td>0</td>\n",
       "      <td>109</td>\n",
       "      <td>30.74</td>\n",
       "      <td>58</td>\n",
       "      <td>24.55</td>\n",
       "      <td>91</td>\n",
       "      <td>8.64</td>\n",
       "      <td>6</td>\n",
       "      <td>3.81</td>\n",
       "      <td>2</td>\n",
       "      <td>0</td>\n",
       "      <td>1</td>\n",
       "    </tr>\n",
       "    <tr>\n",
       "      <th>3331</th>\n",
       "      <td>184</td>\n",
       "      <td>1</td>\n",
       "      <td>0</td>\n",
       "      <td>105</td>\n",
       "      <td>36.35</td>\n",
       "      <td>84</td>\n",
       "      <td>13.57</td>\n",
       "      <td>137</td>\n",
       "      <td>6.26</td>\n",
       "      <td>10</td>\n",
       "      <td>1.35</td>\n",
       "      <td>2</td>\n",
       "      <td>0</td>\n",
       "      <td>1</td>\n",
       "    </tr>\n",
       "    <tr>\n",
       "      <th>3332</th>\n",
       "      <td>74</td>\n",
       "      <td>0</td>\n",
       "      <td>25</td>\n",
       "      <td>113</td>\n",
       "      <td>39.85</td>\n",
       "      <td>82</td>\n",
       "      <td>22.60</td>\n",
       "      <td>77</td>\n",
       "      <td>10.86</td>\n",
       "      <td>4</td>\n",
       "      <td>3.70</td>\n",
       "      <td>0</td>\n",
       "      <td>0</td>\n",
       "      <td>0</td>\n",
       "    </tr>\n",
       "  </tbody>\n",
       "</table>\n",
       "<p>3333 rows × 14 columns</p>\n",
       "</div>"
      ],
      "text/plain": [
       "      account length  international plan  number vmail messages  \\\n",
       "0                128                   0                     25   \n",
       "1                107                   0                     26   \n",
       "2                137                   0                      0   \n",
       "3                 84                   1                      0   \n",
       "4                 75                   1                      0   \n",
       "...              ...                 ...                    ...   \n",
       "3328             192                   0                     36   \n",
       "3329              68                   0                      0   \n",
       "3330              28                   0                      0   \n",
       "3331             184                   1                      0   \n",
       "3332              74                   0                     25   \n",
       "\n",
       "      total day calls  total day charge  total eve calls  total eve charge  \\\n",
       "0                 110             45.07               99             16.78   \n",
       "1                 123             27.47              103             16.62   \n",
       "2                 114             41.38              110             10.30   \n",
       "3                  71             50.90               88              5.26   \n",
       "4                 113             28.34              122             12.61   \n",
       "...               ...               ...              ...               ...   \n",
       "3328               77             26.55              126             18.32   \n",
       "3329               57             39.29               55             13.04   \n",
       "3330              109             30.74               58             24.55   \n",
       "3331              105             36.35               84             13.57   \n",
       "3332              113             39.85               82             22.60   \n",
       "\n",
       "      total night calls  total night charge  total intl calls  \\\n",
       "0                    91               11.01                 3   \n",
       "1                   103               11.45                 3   \n",
       "2                   104                7.32                 5   \n",
       "3                    89                8.86                 7   \n",
       "4                   121                8.41                 3   \n",
       "...                 ...                 ...               ...   \n",
       "3328                 83               12.56                 6   \n",
       "3329                123                8.61                 4   \n",
       "3330                 91                8.64                 6   \n",
       "3331                137                6.26                10   \n",
       "3332                 77               10.86                 4   \n",
       "\n",
       "      total intl charge  customer service calls  churn  top user states  \n",
       "0                  2.70                       1      0                1  \n",
       "1                  3.70                       1      0                1  \n",
       "2                  3.29                       0      0                1  \n",
       "3                  1.78                       2      0                1  \n",
       "4                  2.73                       3      0                0  \n",
       "...                 ...                     ...    ...              ...  \n",
       "3328               2.67                       2      0                0  \n",
       "3329               2.59                       3      0                1  \n",
       "3330               3.81                       2      0                1  \n",
       "3331               1.35                       2      0                1  \n",
       "3332               3.70                       0      0                0  \n",
       "\n",
       "[3333 rows x 14 columns]"
      ]
     },
     "execution_count": 2,
     "metadata": {},
     "output_type": "execute_result"
    }
   ],
   "source": [
    "churn"
   ]
  },
  {
   "cell_type": "code",
   "execution_count": 3,
   "metadata": {},
   "outputs": [],
   "source": [
    "X = churn.drop(['churn'], axis = 1)\n",
    "y = churn.churn"
   ]
  },
  {
   "cell_type": "code",
   "execution_count": 4,
   "metadata": {},
   "outputs": [
    {
     "data": {
      "text/html": [
       "<div>\n",
       "<style scoped>\n",
       "    .dataframe tbody tr th:only-of-type {\n",
       "        vertical-align: middle;\n",
       "    }\n",
       "\n",
       "    .dataframe tbody tr th {\n",
       "        vertical-align: top;\n",
       "    }\n",
       "\n",
       "    .dataframe thead th {\n",
       "        text-align: right;\n",
       "    }\n",
       "</style>\n",
       "<table border=\"1\" class=\"dataframe\">\n",
       "  <thead>\n",
       "    <tr style=\"text-align: right;\">\n",
       "      <th></th>\n",
       "      <th>account length</th>\n",
       "      <th>international plan</th>\n",
       "      <th>number vmail messages</th>\n",
       "      <th>total day calls</th>\n",
       "      <th>total day charge</th>\n",
       "      <th>total eve calls</th>\n",
       "      <th>total eve charge</th>\n",
       "      <th>total night calls</th>\n",
       "      <th>total night charge</th>\n",
       "      <th>total intl calls</th>\n",
       "      <th>total intl charge</th>\n",
       "      <th>customer service calls</th>\n",
       "    </tr>\n",
       "  </thead>\n",
       "  <tbody>\n",
       "    <tr>\n",
       "      <th>0</th>\n",
       "      <td>128</td>\n",
       "      <td>0</td>\n",
       "      <td>25</td>\n",
       "      <td>110</td>\n",
       "      <td>45.07</td>\n",
       "      <td>99</td>\n",
       "      <td>16.78</td>\n",
       "      <td>91</td>\n",
       "      <td>11.01</td>\n",
       "      <td>3</td>\n",
       "      <td>2.70</td>\n",
       "      <td>1</td>\n",
       "    </tr>\n",
       "    <tr>\n",
       "      <th>1</th>\n",
       "      <td>107</td>\n",
       "      <td>0</td>\n",
       "      <td>26</td>\n",
       "      <td>123</td>\n",
       "      <td>27.47</td>\n",
       "      <td>103</td>\n",
       "      <td>16.62</td>\n",
       "      <td>103</td>\n",
       "      <td>11.45</td>\n",
       "      <td>3</td>\n",
       "      <td>3.70</td>\n",
       "      <td>1</td>\n",
       "    </tr>\n",
       "    <tr>\n",
       "      <th>2</th>\n",
       "      <td>137</td>\n",
       "      <td>0</td>\n",
       "      <td>0</td>\n",
       "      <td>114</td>\n",
       "      <td>41.38</td>\n",
       "      <td>110</td>\n",
       "      <td>10.30</td>\n",
       "      <td>104</td>\n",
       "      <td>7.32</td>\n",
       "      <td>5</td>\n",
       "      <td>3.29</td>\n",
       "      <td>0</td>\n",
       "    </tr>\n",
       "    <tr>\n",
       "      <th>3</th>\n",
       "      <td>84</td>\n",
       "      <td>1</td>\n",
       "      <td>0</td>\n",
       "      <td>71</td>\n",
       "      <td>50.90</td>\n",
       "      <td>88</td>\n",
       "      <td>5.26</td>\n",
       "      <td>89</td>\n",
       "      <td>8.86</td>\n",
       "      <td>7</td>\n",
       "      <td>1.78</td>\n",
       "      <td>2</td>\n",
       "    </tr>\n",
       "    <tr>\n",
       "      <th>4</th>\n",
       "      <td>75</td>\n",
       "      <td>1</td>\n",
       "      <td>0</td>\n",
       "      <td>113</td>\n",
       "      <td>28.34</td>\n",
       "      <td>122</td>\n",
       "      <td>12.61</td>\n",
       "      <td>121</td>\n",
       "      <td>8.41</td>\n",
       "      <td>3</td>\n",
       "      <td>2.73</td>\n",
       "      <td>3</td>\n",
       "    </tr>\n",
       "    <tr>\n",
       "      <th>...</th>\n",
       "      <td>...</td>\n",
       "      <td>...</td>\n",
       "      <td>...</td>\n",
       "      <td>...</td>\n",
       "      <td>...</td>\n",
       "      <td>...</td>\n",
       "      <td>...</td>\n",
       "      <td>...</td>\n",
       "      <td>...</td>\n",
       "      <td>...</td>\n",
       "      <td>...</td>\n",
       "      <td>...</td>\n",
       "    </tr>\n",
       "    <tr>\n",
       "      <th>3328</th>\n",
       "      <td>192</td>\n",
       "      <td>0</td>\n",
       "      <td>36</td>\n",
       "      <td>77</td>\n",
       "      <td>26.55</td>\n",
       "      <td>126</td>\n",
       "      <td>18.32</td>\n",
       "      <td>83</td>\n",
       "      <td>12.56</td>\n",
       "      <td>6</td>\n",
       "      <td>2.67</td>\n",
       "      <td>2</td>\n",
       "    </tr>\n",
       "    <tr>\n",
       "      <th>3329</th>\n",
       "      <td>68</td>\n",
       "      <td>0</td>\n",
       "      <td>0</td>\n",
       "      <td>57</td>\n",
       "      <td>39.29</td>\n",
       "      <td>55</td>\n",
       "      <td>13.04</td>\n",
       "      <td>123</td>\n",
       "      <td>8.61</td>\n",
       "      <td>4</td>\n",
       "      <td>2.59</td>\n",
       "      <td>3</td>\n",
       "    </tr>\n",
       "    <tr>\n",
       "      <th>3330</th>\n",
       "      <td>28</td>\n",
       "      <td>0</td>\n",
       "      <td>0</td>\n",
       "      <td>109</td>\n",
       "      <td>30.74</td>\n",
       "      <td>58</td>\n",
       "      <td>24.55</td>\n",
       "      <td>91</td>\n",
       "      <td>8.64</td>\n",
       "      <td>6</td>\n",
       "      <td>3.81</td>\n",
       "      <td>2</td>\n",
       "    </tr>\n",
       "    <tr>\n",
       "      <th>3331</th>\n",
       "      <td>184</td>\n",
       "      <td>1</td>\n",
       "      <td>0</td>\n",
       "      <td>105</td>\n",
       "      <td>36.35</td>\n",
       "      <td>84</td>\n",
       "      <td>13.57</td>\n",
       "      <td>137</td>\n",
       "      <td>6.26</td>\n",
       "      <td>10</td>\n",
       "      <td>1.35</td>\n",
       "      <td>2</td>\n",
       "    </tr>\n",
       "    <tr>\n",
       "      <th>3332</th>\n",
       "      <td>74</td>\n",
       "      <td>0</td>\n",
       "      <td>25</td>\n",
       "      <td>113</td>\n",
       "      <td>39.85</td>\n",
       "      <td>82</td>\n",
       "      <td>22.60</td>\n",
       "      <td>77</td>\n",
       "      <td>10.86</td>\n",
       "      <td>4</td>\n",
       "      <td>3.70</td>\n",
       "      <td>0</td>\n",
       "    </tr>\n",
       "  </tbody>\n",
       "</table>\n",
       "<p>3333 rows × 12 columns</p>\n",
       "</div>"
      ],
      "text/plain": [
       "      account length  international plan  number vmail messages  \\\n",
       "0                128                   0                     25   \n",
       "1                107                   0                     26   \n",
       "2                137                   0                      0   \n",
       "3                 84                   1                      0   \n",
       "4                 75                   1                      0   \n",
       "...              ...                 ...                    ...   \n",
       "3328             192                   0                     36   \n",
       "3329              68                   0                      0   \n",
       "3330              28                   0                      0   \n",
       "3331             184                   1                      0   \n",
       "3332              74                   0                     25   \n",
       "\n",
       "      total day calls  total day charge  total eve calls  total eve charge  \\\n",
       "0                 110             45.07               99             16.78   \n",
       "1                 123             27.47              103             16.62   \n",
       "2                 114             41.38              110             10.30   \n",
       "3                  71             50.90               88              5.26   \n",
       "4                 113             28.34              122             12.61   \n",
       "...               ...               ...              ...               ...   \n",
       "3328               77             26.55              126             18.32   \n",
       "3329               57             39.29               55             13.04   \n",
       "3330              109             30.74               58             24.55   \n",
       "3331              105             36.35               84             13.57   \n",
       "3332              113             39.85               82             22.60   \n",
       "\n",
       "      total night calls  total night charge  total intl calls  \\\n",
       "0                    91               11.01                 3   \n",
       "1                   103               11.45                 3   \n",
       "2                   104                7.32                 5   \n",
       "3                    89                8.86                 7   \n",
       "4                   121                8.41                 3   \n",
       "...                 ...                 ...               ...   \n",
       "3328                 83               12.56                 6   \n",
       "3329                123                8.61                 4   \n",
       "3330                 91                8.64                 6   \n",
       "3331                137                6.26                10   \n",
       "3332                 77               10.86                 4   \n",
       "\n",
       "      total intl charge  customer service calls  \n",
       "0                  2.70                       1  \n",
       "1                  3.70                       1  \n",
       "2                  3.29                       0  \n",
       "3                  1.78                       2  \n",
       "4                  2.73                       3  \n",
       "...                 ...                     ...  \n",
       "3328               2.67                       2  \n",
       "3329               2.59                       3  \n",
       "3330               3.81                       2  \n",
       "3331               1.35                       2  \n",
       "3332               3.70                       0  \n",
       "\n",
       "[3333 rows x 12 columns]"
      ]
     },
     "execution_count": 4,
     "metadata": {},
     "output_type": "execute_result"
    }
   ],
   "source": [
    "X"
   ]
  },
  {
   "cell_type": "code",
   "execution_count": 5,
   "metadata": {
    "scrolled": true
   },
   "outputs": [
    {
     "data": {
      "text/plain": [
       "0    2850\n",
       "1     483\n",
       "Name: churn, dtype: int64"
      ]
     },
     "execution_count": 5,
     "metadata": {},
     "output_type": "execute_result"
    }
   ],
   "source": [
    "y.value_counts()"
   ]
  },
  {
   "cell_type": "markdown",
   "metadata": {},
   "source": [
    "# Decision Tree - Grid Search"
   ]
  },
  {
   "cell_type": "code",
   "execution_count": 6,
   "metadata": {},
   "outputs": [],
   "source": [
    "##Splitting the data with train_test_split\n",
    "\n",
    "X_traintl, X_testtl, y_traintl, y_testtl = train_test_split(X, y, random_state=1)"
   ]
  },
  {
   "cell_type": "code",
   "execution_count": 7,
   "metadata": {
    "scrolled": true
   },
   "outputs": [
    {
     "data": {
      "text/plain": [
       "0    2138\n",
       "1     361\n",
       "Name: churn, dtype: int64"
      ]
     },
     "execution_count": 7,
     "metadata": {},
     "output_type": "execute_result"
    }
   ],
   "source": [
    "y_traintl.value_counts()"
   ]
  },
  {
   "cell_type": "code",
   "execution_count": 8,
   "metadata": {},
   "outputs": [
    {
     "name": "stdout",
     "output_type": "stream",
     "text": [
      "Resampled dataset shape Counter({0: 2000, 1: 361})\n"
     ]
    }
   ],
   "source": [
    "## I am going to use TomekLinks to downsample because I have a significant class imbalance \n",
    "## in my churn variable.\n",
    "\n",
    "tl = TomekLinks()\n",
    "X_res, y_res = tl.fit_resample(X_traintl, y_traintl)\n",
    "print('Resampled dataset shape %s' % Counter(y_res))"
   ]
  },
  {
   "cell_type": "code",
   "execution_count": 9,
   "metadata": {},
   "outputs": [],
   "source": [
    "tl = TomekLinks()\n",
    "X_res, y_res = tl.fit_sample(X_traintl, y_traintl)\n"
   ]
  },
  {
   "cell_type": "code",
   "execution_count": 8,
   "metadata": {},
   "outputs": [],
   "source": [
    "param_dict={'max_depth': range(1,10,1),'criterion': ['gini','entropy'], 'min_samples_leaf' : range(10,40,1), 'max_leaf_nodes': range(0,30,1), 'class_weight': ['balanced']}"
   ]
  },
  {
   "cell_type": "code",
   "execution_count": 9,
   "metadata": {},
   "outputs": [],
   "source": [
    "# Using grid search to find the best parameters\n",
    "\n",
    "gs = GridSearchCV(DecisionTreeClassifier(random_state=1),\n",
    "                  param_grid= param_dict,\n",
    "                  scoring='f1', cv=3,verbose = 1, n_jobs=-1)"
   ]
  },
  {
   "cell_type": "code",
   "execution_count": 10,
   "metadata": {},
   "outputs": [
    {
     "name": "stdout",
     "output_type": "stream",
     "text": [
      "Fitting 3 folds for each of 16200 candidates, totalling 48600 fits\n"
     ]
    },
    {
     "name": "stderr",
     "output_type": "stream",
     "text": [
      "[Parallel(n_jobs=-1)]: Using backend LokyBackend with 12 concurrent workers.\n",
      "[Parallel(n_jobs=-1)]: Done  26 tasks      | elapsed:    1.6s\n",
      "[Parallel(n_jobs=-1)]: Done 1100 tasks      | elapsed:    3.2s\n",
      "[Parallel(n_jobs=-1)]: Done 5100 tasks      | elapsed:    7.8s\n",
      "[Parallel(n_jobs=-1)]: Done 10700 tasks      | elapsed:   14.3s\n",
      "[Parallel(n_jobs=-1)]: Done 17900 tasks      | elapsed:   24.0s\n",
      "[Parallel(n_jobs=-1)]: Done 26700 tasks      | elapsed:   35.7s\n",
      "[Parallel(n_jobs=-1)]: Done 37100 tasks      | elapsed:   49.2s\n",
      "[Parallel(n_jobs=-1)]: Done 48600 out of 48600 | elapsed:  1.1min finished\n"
     ]
    },
    {
     "data": {
      "text/plain": [
       "GridSearchCV(cv=3, estimator=DecisionTreeClassifier(random_state=1), n_jobs=-1,\n",
       "             param_grid={'class_weight': ['balanced'],\n",
       "                         'criterion': ['gini', 'entropy'],\n",
       "                         'max_depth': range(1, 10),\n",
       "                         'max_leaf_nodes': range(0, 30),\n",
       "                         'min_samples_leaf': range(10, 40)},\n",
       "             scoring='f1', verbose=1)"
      ]
     },
     "execution_count": 10,
     "metadata": {},
     "output_type": "execute_result"
    }
   ],
   "source": [
    "# Fitting\n",
    "\n",
    "gs.fit(X_res, y_res)"
   ]
  },
  {
   "cell_type": "code",
   "execution_count": 11,
   "metadata": {},
   "outputs": [
    {
     "data": {
      "text/plain": [
       "0.7443197808703079"
      ]
     },
     "execution_count": 11,
     "metadata": {},
     "output_type": "execute_result"
    }
   ],
   "source": [
    "gs.best_score_"
   ]
  },
  {
   "cell_type": "code",
   "execution_count": 12,
   "metadata": {},
   "outputs": [
    {
     "data": {
      "text/plain": [
       "{'class_weight': 'balanced',\n",
       " 'criterion': 'entropy',\n",
       " 'max_depth': 6,\n",
       " 'max_leaf_nodes': 21,\n",
       " 'min_samples_leaf': 10}"
      ]
     },
     "execution_count": 12,
     "metadata": {},
     "output_type": "execute_result"
    }
   ],
   "source": [
    "# The best parameters that the gridsearch found\n",
    "\n",
    "gs.best_params_"
   ]
  },
  {
   "cell_type": "code",
   "execution_count": 23,
   "metadata": {},
   "outputs": [],
   "source": [
    "y_predsgs=gs.best_estimator_.predict(X_testtl)\n"
   ]
  },
  {
   "cell_type": "code",
   "execution_count": 40,
   "metadata": {
    "scrolled": true
   },
   "outputs": [
    {
     "data": {
      "text/plain": [
       "0.7622950819672131"
      ]
     },
     "execution_count": 40,
     "metadata": {},
     "output_type": "execute_result"
    }
   ],
   "source": [
    "# Much better recall than I got with KNN\n",
    "\n",
    "recall_score(y_testtl,y_predsgs)"
   ]
  },
  {
   "cell_type": "code",
   "execution_count": 41,
   "metadata": {},
   "outputs": [
    {
     "data": {
      "text/plain": [
       "0.7153846153846154"
      ]
     },
     "execution_count": 41,
     "metadata": {},
     "output_type": "execute_result"
    }
   ],
   "source": [
    "f1_score(y_testtl,y_predsgs)"
   ]
  },
  {
   "cell_type": "markdown",
   "metadata": {},
   "source": [
    "## - Second Decision Tree Grid Search\n",
    "## - This time scoring on Recall instead of F1"
   ]
  },
  {
   "cell_type": "code",
   "execution_count": 80,
   "metadata": {},
   "outputs": [],
   "source": [
    "#GridSearch\n",
    "\n",
    "gs2 = GridSearchCV(DecisionTreeClassifier(random_state=1),\n",
    "                  param_grid= param_dict,\n",
    "                  scoring='recall', cv=3,verbose = 1, n_jobs=-1)"
   ]
  },
  {
   "cell_type": "code",
   "execution_count": 81,
   "metadata": {},
   "outputs": [
    {
     "name": "stdout",
     "output_type": "stream",
     "text": [
      "Fitting 3 folds for each of 16200 candidates, totalling 48600 fits\n"
     ]
    },
    {
     "name": "stderr",
     "output_type": "stream",
     "text": [
      "[Parallel(n_jobs=-1)]: Using backend LokyBackend with 12 concurrent workers.\n",
      "[Parallel(n_jobs=-1)]: Done  26 tasks      | elapsed:    1.4s\n",
      "[Parallel(n_jobs=-1)]: Done 920 tasks      | elapsed:    2.7s\n",
      "[Parallel(n_jobs=-1)]: Done 4920 tasks      | elapsed:    7.6s\n",
      "[Parallel(n_jobs=-1)]: Done 10520 tasks      | elapsed:   14.5s\n",
      "[Parallel(n_jobs=-1)]: Done 17720 tasks      | elapsed:   24.8s\n",
      "[Parallel(n_jobs=-1)]: Done 26520 tasks      | elapsed:   37.1s\n",
      "[Parallel(n_jobs=-1)]: Done 36920 tasks      | elapsed:   51.3s\n",
      "[Parallel(n_jobs=-1)]: Done 48600 out of 48600 | elapsed:  1.2min finished\n"
     ]
    },
    {
     "data": {
      "text/plain": [
       "GridSearchCV(cv=3, estimator=DecisionTreeClassifier(random_state=1), n_jobs=-1,\n",
       "             param_grid={'class_weight': ['balanced'],\n",
       "                         'criterion': ['gini', 'entropy'],\n",
       "                         'max_depth': range(1, 10),\n",
       "                         'max_leaf_nodes': range(0, 30),\n",
       "                         'min_samples_leaf': range(10, 40)},\n",
       "             scoring='recall', verbose=1)"
      ]
     },
     "execution_count": 81,
     "metadata": {},
     "output_type": "execute_result"
    }
   ],
   "source": [
    "#Fitting\n",
    "\n",
    "gs2.fit(X_res, y_res)"
   ]
  },
  {
   "cell_type": "code",
   "execution_count": 83,
   "metadata": {},
   "outputs": [
    {
     "data": {
      "text/plain": [
       "0.8504361799816346"
      ]
     },
     "execution_count": 83,
     "metadata": {},
     "output_type": "execute_result"
    }
   ],
   "source": [
    "#Recall\n",
    "\n",
    "gs2.best_score_"
   ]
  },
  {
   "cell_type": "code",
   "execution_count": 84,
   "metadata": {},
   "outputs": [
    {
     "data": {
      "text/plain": [
       "{'class_weight': 'balanced',\n",
       " 'criterion': 'gini',\n",
       " 'max_depth': 4,\n",
       " 'max_leaf_nodes': 6,\n",
       " 'min_samples_leaf': 10}"
      ]
     },
     "execution_count": 84,
     "metadata": {},
     "output_type": "execute_result"
    }
   ],
   "source": [
    "##Finding out best parameters from the GridSearch\n",
    "\n",
    "gs2.best_params_"
   ]
  },
  {
   "cell_type": "code",
   "execution_count": 85,
   "metadata": {},
   "outputs": [],
   "source": [
    "y_predsgs2=gs2.best_estimator_.predict(X_testtl)\n"
   ]
  },
  {
   "cell_type": "code",
   "execution_count": 86,
   "metadata": {},
   "outputs": [
    {
     "data": {
      "text/plain": [
       "0.7459016393442623"
      ]
     },
     "execution_count": 86,
     "metadata": {},
     "output_type": "execute_result"
    }
   ],
   "source": [
    "#Recall\n",
    "\n",
    "recall_score(y_testtl,y_predsgs2)"
   ]
  },
  {
   "cell_type": "code",
   "execution_count": 87,
   "metadata": {},
   "outputs": [
    {
     "data": {
      "text/plain": [
       "0.5723270440251572"
      ]
     },
     "execution_count": 87,
     "metadata": {},
     "output_type": "execute_result"
    }
   ],
   "source": [
    "f1_score(y_testtl,y_predsgs2)"
   ]
  },
  {
   "cell_type": "markdown",
   "metadata": {},
   "source": [
    "## - Though it got a higher score on the training set, it did worse on the test set\n",
    "## - It appears it overfits to training data when I use recall score"
   ]
  },
  {
   "cell_type": "markdown",
   "metadata": {},
   "source": [
    "# Random Forest - Grid Search"
   ]
  },
  {
   "cell_type": "markdown",
   "metadata": {},
   "source": [
    "## For my first Random Forest Grid Search, I will be scoring on F1"
   ]
  },
  {
   "cell_type": "code",
   "execution_count": 15,
   "metadata": {
    "scrolled": false
   },
   "outputs": [
    {
     "name": "stdout",
     "output_type": "stream",
     "text": [
      "Fitting 3 folds for each of 12600 candidates, totalling 37800 fits\n"
     ]
    },
    {
     "name": "stderr",
     "output_type": "stream",
     "text": [
      "[Parallel(n_jobs=-2)]: Using backend LokyBackend with 11 concurrent workers.\n",
      "[Parallel(n_jobs=-2)]: Done  34 tasks      | elapsed:    0.6s\n",
      "[Parallel(n_jobs=-2)]: Done 334 tasks      | elapsed:    7.4s\n",
      "[Parallel(n_jobs=-2)]: Done 834 tasks      | elapsed:   27.4s\n",
      "[Parallel(n_jobs=-2)]: Done 1534 tasks      | elapsed:   55.6s\n",
      "[Parallel(n_jobs=-2)]: Done 2339 tasks      | elapsed:  1.5min\n",
      "[Parallel(n_jobs=-2)]: Done 2889 tasks      | elapsed:  1.7min\n",
      "[Parallel(n_jobs=-2)]: Done 3539 tasks      | elapsed:  2.2min\n",
      "[Parallel(n_jobs=-2)]: Done 4289 tasks      | elapsed:  2.7min\n",
      "[Parallel(n_jobs=-2)]: Done 5139 tasks      | elapsed:  3.3min\n",
      "[Parallel(n_jobs=-2)]: Done 6089 tasks      | elapsed:  3.9min\n",
      "[Parallel(n_jobs=-2)]: Done 7139 tasks      | elapsed:  4.9min\n",
      "[Parallel(n_jobs=-2)]: Done 8289 tasks      | elapsed:  5.7min\n",
      "[Parallel(n_jobs=-2)]: Done 9539 tasks      | elapsed:  6.6min\n",
      "[Parallel(n_jobs=-2)]: Done 10889 tasks      | elapsed:  7.6min\n",
      "[Parallel(n_jobs=-2)]: Done 12339 tasks      | elapsed:  8.7min\n",
      "[Parallel(n_jobs=-2)]: Done 13889 tasks      | elapsed:  9.8min\n",
      "[Parallel(n_jobs=-2)]: Done 15539 tasks      | elapsed: 11.2min\n",
      "[Parallel(n_jobs=-2)]: Done 17289 tasks      | elapsed: 12.4min\n",
      "[Parallel(n_jobs=-2)]: Done 19139 tasks      | elapsed: 13.9min\n",
      "[Parallel(n_jobs=-2)]: Done 21089 tasks      | elapsed: 15.5min\n",
      "[Parallel(n_jobs=-2)]: Done 23139 tasks      | elapsed: 16.9min\n",
      "[Parallel(n_jobs=-2)]: Done 25289 tasks      | elapsed: 18.5min\n",
      "[Parallel(n_jobs=-2)]: Done 27539 tasks      | elapsed: 20.2min\n",
      "[Parallel(n_jobs=-2)]: Done 29889 tasks      | elapsed: 22.2min\n",
      "[Parallel(n_jobs=-2)]: Done 32339 tasks      | elapsed: 24.3min\n",
      "[Parallel(n_jobs=-2)]: Done 34889 tasks      | elapsed: 26.3min\n",
      "[Parallel(n_jobs=-2)]: Done 37539 tasks      | elapsed: 28.5min\n",
      "[Parallel(n_jobs=-2)]: Done 37800 out of 37800 | elapsed: 28.7min finished\n"
     ]
    },
    {
     "data": {
      "text/plain": [
       "GridSearchCV(cv=3,\n",
       "             estimator=RandomForestClassifier(class_weight='balanced',\n",
       "                                              random_state=1),\n",
       "             n_jobs=-2,\n",
       "             param_grid={'criterion': ['gini', 'entropy'],\n",
       "                         'max_depth': range(3, 10),\n",
       "                         'max_leaf_nodes': range(0, 30),\n",
       "                         'min_samples_leaf': range(5, 20),\n",
       "                         'n_estimators': [100, 200]},\n",
       "             scoring='f1', verbose=1)"
      ]
     },
     "execution_count": 15,
     "metadata": {},
     "output_type": "execute_result"
    }
   ],
   "source": [
    "# Random Forest Grid Search\n",
    "\n",
    "rf = RandomForestClassifier(class_weight='balanced', random_state=1)\n",
    "param_dictrf={'n_estimators': [100,200], 'max_depth': range(3,10,1), 'criterion': ['gini','entropy'],'min_samples_leaf' : range(5,20,1), 'max_leaf_nodes': range(0,30,1)}\n",
    "gs_forest=GridSearchCV(rf,param_dictrf,scoring='f1',cv=3,verbose=1,n_jobs=-2)\n",
    "\n",
    "#Fitting\n",
    "gs_forest.fit(X_res,y_res)"
   ]
  },
  {
   "cell_type": "code",
   "execution_count": 16,
   "metadata": {},
   "outputs": [
    {
     "data": {
      "text/plain": [
       "{'criterion': 'entropy',\n",
       " 'max_depth': 6,\n",
       " 'max_leaf_nodes': 29,\n",
       " 'min_samples_leaf': 5,\n",
       " 'n_estimators': 200}"
      ]
     },
     "execution_count": 16,
     "metadata": {},
     "output_type": "execute_result"
    }
   ],
   "source": [
    "# Finding out best parameters\n",
    "\n",
    "gs_forest.best_params_"
   ]
  },
  {
   "cell_type": "code",
   "execution_count": 45,
   "metadata": {
    "scrolled": true
   },
   "outputs": [
    {
     "data": {
      "text/plain": [
       "array([0.02577201, 0.13089939, 0.05739601, 0.02420921, 0.2853505 ,\n",
       "       0.02119778, 0.08372057, 0.02053281, 0.0414663 , 0.04456235,\n",
       "       0.05409738, 0.2072108 , 0.00358489])"
      ]
     },
     "execution_count": 45,
     "metadata": {},
     "output_type": "execute_result"
    }
   ],
   "source": [
    "#Feature_importances_ gives us an array that lets us know the strength of the relationship for each feature\n",
    "# In predicting churn\n",
    "\n",
    "gs_forest.best_estimator_.feature_importances_"
   ]
  },
  {
   "cell_type": "code",
   "execution_count": 76,
   "metadata": {},
   "outputs": [
    {
     "data": {
      "text/plain": [
       "0.819672131147541"
      ]
     },
     "execution_count": 76,
     "metadata": {},
     "output_type": "execute_result"
    }
   ],
   "source": [
    "\n",
    "\n",
    "gs_forest.best_score_\n",
    "\n",
    "y_predsgsf=gs_forest.best_estimator_.predict(X_testtl)\n",
    "\n",
    "# Recall\n",
    "recall_score(y_testtl,y_predsgsf)"
   ]
  },
  {
   "cell_type": "markdown",
   "metadata": {},
   "source": [
    "## My strongest recall score so far"
   ]
  },
  {
   "cell_type": "code",
   "execution_count": 75,
   "metadata": {},
   "outputs": [
    {
     "data": {
      "text/plain": [
       "0.7299270072992702"
      ]
     },
     "execution_count": 75,
     "metadata": {},
     "output_type": "execute_result"
    }
   ],
   "source": [
    "gs_forest.best_score_\n",
    "\n",
    "y_predsgsf=gs_forest.best_estimator_.predict(X_testtl)\n",
    "recall_score(y_testtl,y_predsgsf)\n",
    "\n",
    "# F1 Score\n",
    "f1_score(y_testtl,y_predsgsf)\n"
   ]
  },
  {
   "cell_type": "markdown",
   "metadata": {},
   "source": [
    "## I dropped all state features from my dataset, so I want to see \n",
    "## if that affects my recall score on my strongest model"
   ]
  },
  {
   "cell_type": "code",
   "execution_count": 26,
   "metadata": {},
   "outputs": [],
   "source": [
    "new_rf = RandomForestClassifier(class_weight='balanced',\n",
    "                                random_state=1,\n",
    "                                criterion = 'entropy', \n",
    "                                max_depth = 6, \n",
    "                                max_leaf_nodes = 29, \n",
    "                                min_samples_leaf = 5, \n",
    "                                n_estimators= 200)"
   ]
  },
  {
   "cell_type": "code",
   "execution_count": 27,
   "metadata": {},
   "outputs": [
    {
     "data": {
      "text/plain": [
       "RandomForestClassifier(class_weight='balanced', criterion='entropy',\n",
       "                       max_depth=6, max_leaf_nodes=29, min_samples_leaf=5,\n",
       "                       n_estimators=200, random_state=1)"
      ]
     },
     "execution_count": 27,
     "metadata": {},
     "output_type": "execute_result"
    }
   ],
   "source": [
    "new_rf.fit(X_res, y_res)"
   ]
  },
  {
   "cell_type": "code",
   "execution_count": 28,
   "metadata": {},
   "outputs": [],
   "source": [
    "y_predsnew_rff=new_rf.predict(X_testtl)"
   ]
  },
  {
   "cell_type": "code",
   "execution_count": 29,
   "metadata": {},
   "outputs": [
    {
     "data": {
      "text/plain": [
       "0.819672131147541"
      ]
     },
     "execution_count": 29,
     "metadata": {},
     "output_type": "execute_result"
    }
   ],
   "source": [
    "recall_score(y_testtl,y_predsnew_rff)"
   ]
  },
  {
   "cell_type": "markdown",
   "metadata": {},
   "source": [
    "## It did not change my recall score at all\n",
    "## This means it was an extremely unimportant feature and was rightfully dropped"
   ]
  },
  {
   "cell_type": "code",
   "execution_count": 36,
   "metadata": {},
   "outputs": [
    {
     "data": {
      "text/html": [
       "<div>\n",
       "<style scoped>\n",
       "    .dataframe tbody tr th:only-of-type {\n",
       "        vertical-align: middle;\n",
       "    }\n",
       "\n",
       "    .dataframe tbody tr th {\n",
       "        vertical-align: top;\n",
       "    }\n",
       "\n",
       "    .dataframe thead th {\n",
       "        text-align: right;\n",
       "    }\n",
       "</style>\n",
       "<table border=\"1\" class=\"dataframe\">\n",
       "  <thead>\n",
       "    <tr style=\"text-align: right;\">\n",
       "      <th></th>\n",
       "      <th>account length</th>\n",
       "      <th>international plan</th>\n",
       "      <th>number vmail messages</th>\n",
       "      <th>total day calls</th>\n",
       "      <th>total day charge</th>\n",
       "      <th>total eve calls</th>\n",
       "      <th>total eve charge</th>\n",
       "      <th>total night calls</th>\n",
       "      <th>total night charge</th>\n",
       "      <th>total intl calls</th>\n",
       "      <th>total intl charge</th>\n",
       "      <th>customer service calls</th>\n",
       "    </tr>\n",
       "  </thead>\n",
       "  <tbody>\n",
       "    <tr>\n",
       "      <th>0</th>\n",
       "      <td>66</td>\n",
       "      <td>0</td>\n",
       "      <td>0</td>\n",
       "      <td>85</td>\n",
       "      <td>35.31</td>\n",
       "      <td>112</td>\n",
       "      <td>16.72</td>\n",
       "      <td>83</td>\n",
       "      <td>11.78</td>\n",
       "      <td>3</td>\n",
       "      <td>1.84</td>\n",
       "      <td>1</td>\n",
       "    </tr>\n",
       "    <tr>\n",
       "      <th>1</th>\n",
       "      <td>81</td>\n",
       "      <td>0</td>\n",
       "      <td>0</td>\n",
       "      <td>121</td>\n",
       "      <td>22.08</td>\n",
       "      <td>105</td>\n",
       "      <td>19.56</td>\n",
       "      <td>123</td>\n",
       "      <td>6.32</td>\n",
       "      <td>3</td>\n",
       "      <td>3.59</td>\n",
       "      <td>0</td>\n",
       "    </tr>\n",
       "    <tr>\n",
       "      <th>2</th>\n",
       "      <td>16</td>\n",
       "      <td>0</td>\n",
       "      <td>0</td>\n",
       "      <td>84</td>\n",
       "      <td>24.62</td>\n",
       "      <td>141</td>\n",
       "      <td>14.02</td>\n",
       "      <td>75</td>\n",
       "      <td>10.42</td>\n",
       "      <td>4</td>\n",
       "      <td>2.21</td>\n",
       "      <td>2</td>\n",
       "    </tr>\n",
       "    <tr>\n",
       "      <th>3</th>\n",
       "      <td>61</td>\n",
       "      <td>1</td>\n",
       "      <td>0</td>\n",
       "      <td>103</td>\n",
       "      <td>13.29</td>\n",
       "      <td>149</td>\n",
       "      <td>16.65</td>\n",
       "      <td>100</td>\n",
       "      <td>4.86</td>\n",
       "      <td>6</td>\n",
       "      <td>2.73</td>\n",
       "      <td>2</td>\n",
       "    </tr>\n",
       "    <tr>\n",
       "      <th>4</th>\n",
       "      <td>47</td>\n",
       "      <td>0</td>\n",
       "      <td>27</td>\n",
       "      <td>89</td>\n",
       "      <td>28.05</td>\n",
       "      <td>118</td>\n",
       "      <td>10.82</td>\n",
       "      <td>95</td>\n",
       "      <td>12.80</td>\n",
       "      <td>4</td>\n",
       "      <td>2.08</td>\n",
       "      <td>2</td>\n",
       "    </tr>\n",
       "    <tr>\n",
       "      <th>...</th>\n",
       "      <td>...</td>\n",
       "      <td>...</td>\n",
       "      <td>...</td>\n",
       "      <td>...</td>\n",
       "      <td>...</td>\n",
       "      <td>...</td>\n",
       "      <td>...</td>\n",
       "      <td>...</td>\n",
       "      <td>...</td>\n",
       "      <td>...</td>\n",
       "      <td>...</td>\n",
       "      <td>...</td>\n",
       "    </tr>\n",
       "    <tr>\n",
       "      <th>2356</th>\n",
       "      <td>116</td>\n",
       "      <td>0</td>\n",
       "      <td>19</td>\n",
       "      <td>104</td>\n",
       "      <td>26.47</td>\n",
       "      <td>118</td>\n",
       "      <td>15.76</td>\n",
       "      <td>116</td>\n",
       "      <td>8.67</td>\n",
       "      <td>2</td>\n",
       "      <td>2.21</td>\n",
       "      <td>3</td>\n",
       "    </tr>\n",
       "    <tr>\n",
       "      <th>2357</th>\n",
       "      <td>161</td>\n",
       "      <td>0</td>\n",
       "      <td>0</td>\n",
       "      <td>113</td>\n",
       "      <td>32.62</td>\n",
       "      <td>87</td>\n",
       "      <td>6.03</td>\n",
       "      <td>107</td>\n",
       "      <td>9.22</td>\n",
       "      <td>4</td>\n",
       "      <td>3.62</td>\n",
       "      <td>4</td>\n",
       "    </tr>\n",
       "    <tr>\n",
       "      <th>2358</th>\n",
       "      <td>93</td>\n",
       "      <td>0</td>\n",
       "      <td>0</td>\n",
       "      <td>78</td>\n",
       "      <td>16.73</td>\n",
       "      <td>129</td>\n",
       "      <td>21.22</td>\n",
       "      <td>114</td>\n",
       "      <td>11.17</td>\n",
       "      <td>4</td>\n",
       "      <td>3.83</td>\n",
       "      <td>1</td>\n",
       "    </tr>\n",
       "    <tr>\n",
       "      <th>2359</th>\n",
       "      <td>139</td>\n",
       "      <td>0</td>\n",
       "      <td>0</td>\n",
       "      <td>106</td>\n",
       "      <td>22.85</td>\n",
       "      <td>98</td>\n",
       "      <td>17.96</td>\n",
       "      <td>125</td>\n",
       "      <td>8.71</td>\n",
       "      <td>2</td>\n",
       "      <td>2.75</td>\n",
       "      <td>5</td>\n",
       "    </tr>\n",
       "    <tr>\n",
       "      <th>2360</th>\n",
       "      <td>132</td>\n",
       "      <td>0</td>\n",
       "      <td>31</td>\n",
       "      <td>101</td>\n",
       "      <td>29.67</td>\n",
       "      <td>105</td>\n",
       "      <td>20.88</td>\n",
       "      <td>76</td>\n",
       "      <td>7.78</td>\n",
       "      <td>9</td>\n",
       "      <td>2.78</td>\n",
       "      <td>1</td>\n",
       "    </tr>\n",
       "  </tbody>\n",
       "</table>\n",
       "<p>2361 rows × 12 columns</p>\n",
       "</div>"
      ],
      "text/plain": [
       "      account length  international plan  number vmail messages  \\\n",
       "0                 66                   0                      0   \n",
       "1                 81                   0                      0   \n",
       "2                 16                   0                      0   \n",
       "3                 61                   1                      0   \n",
       "4                 47                   0                     27   \n",
       "...              ...                 ...                    ...   \n",
       "2356             116                   0                     19   \n",
       "2357             161                   0                      0   \n",
       "2358              93                   0                      0   \n",
       "2359             139                   0                      0   \n",
       "2360             132                   0                     31   \n",
       "\n",
       "      total day calls  total day charge  total eve calls  total eve charge  \\\n",
       "0                  85             35.31              112             16.72   \n",
       "1                 121             22.08              105             19.56   \n",
       "2                  84             24.62              141             14.02   \n",
       "3                 103             13.29              149             16.65   \n",
       "4                  89             28.05              118             10.82   \n",
       "...               ...               ...              ...               ...   \n",
       "2356              104             26.47              118             15.76   \n",
       "2357              113             32.62               87              6.03   \n",
       "2358               78             16.73              129             21.22   \n",
       "2359              106             22.85               98             17.96   \n",
       "2360              101             29.67              105             20.88   \n",
       "\n",
       "      total night calls  total night charge  total intl calls  \\\n",
       "0                    83               11.78                 3   \n",
       "1                   123                6.32                 3   \n",
       "2                    75               10.42                 4   \n",
       "3                   100                4.86                 6   \n",
       "4                    95               12.80                 4   \n",
       "...                 ...                 ...               ...   \n",
       "2356                116                8.67                 2   \n",
       "2357                107                9.22                 4   \n",
       "2358                114               11.17                 4   \n",
       "2359                125                8.71                 2   \n",
       "2360                 76                7.78                 9   \n",
       "\n",
       "      total intl charge  customer service calls  \n",
       "0                  1.84                       1  \n",
       "1                  3.59                       0  \n",
       "2                  2.21                       2  \n",
       "3                  2.73                       2  \n",
       "4                  2.08                       2  \n",
       "...                 ...                     ...  \n",
       "2356               2.21                       3  \n",
       "2357               3.62                       4  \n",
       "2358               3.83                       1  \n",
       "2359               2.75                       5  \n",
       "2360               2.78                       1  \n",
       "\n",
       "[2361 rows x 12 columns]"
      ]
     },
     "execution_count": 36,
     "metadata": {},
     "output_type": "execute_result"
    }
   ],
   "source": [
    "X_res"
   ]
  },
  {
   "cell_type": "code",
   "execution_count": 33,
   "metadata": {
    "scrolled": true
   },
   "outputs": [
    {
     "data": {
      "text/plain": [
       "array([0.02186135, 0.13752638, 0.06046486, 0.02306122, 0.27173369,\n",
       "       0.02237686, 0.08400496, 0.01737773, 0.04175593, 0.04600179,\n",
       "       0.05317191, 0.22066333])"
      ]
     },
     "execution_count": 33,
     "metadata": {},
     "output_type": "execute_result"
    }
   ],
   "source": [
    "new_rf.feature_importances_"
   ]
  },
  {
   "cell_type": "markdown",
   "metadata": {},
   "source": [
    "## Using feature_importances, we can see that international plan, total day charge, and customer service calls have the strongest relationships in predicting churn"
   ]
  },
  {
   "cell_type": "markdown",
   "metadata": {},
   "source": [
    "## Comparing my model to a baseline model"
   ]
  },
  {
   "cell_type": "code",
   "execution_count": 60,
   "metadata": {},
   "outputs": [],
   "source": [
    "# DummyClassifier\n",
    "\n",
    "from sklearn.dummy import DummyClassifier"
   ]
  },
  {
   "cell_type": "code",
   "execution_count": 85,
   "metadata": {},
   "outputs": [],
   "source": [
    "dummy_clf = DummyClassifier(random_state = 1)"
   ]
  },
  {
   "cell_type": "code",
   "execution_count": 86,
   "metadata": {},
   "outputs": [
    {
     "data": {
      "text/plain": [
       "DummyClassifier(random_state=1, strategy='stratified')"
      ]
     },
     "execution_count": 86,
     "metadata": {},
     "output_type": "execute_result"
    }
   ],
   "source": [
    "dummy_clf.fit(X_res, y_res)"
   ]
  },
  {
   "cell_type": "code",
   "execution_count": 87,
   "metadata": {},
   "outputs": [],
   "source": [
    "y_predsdummy = dummy_clf.predict(X_testtl)"
   ]
  },
  {
   "cell_type": "code",
   "execution_count": 88,
   "metadata": {},
   "outputs": [
    {
     "data": {
      "text/plain": [
       "0.1721311475409836"
      ]
     },
     "execution_count": 88,
     "metadata": {},
     "output_type": "execute_result"
    }
   ],
   "source": [
    "#Baseline Model Recall\n",
    "\n",
    "recall_score(y_testtl,y_predsdummy)"
   ]
  },
  {
   "cell_type": "code",
   "execution_count": 89,
   "metadata": {},
   "outputs": [
    {
     "data": {
      "text/plain": [
       "0.1693548387096774"
      ]
     },
     "execution_count": 89,
     "metadata": {},
     "output_type": "execute_result"
    }
   ],
   "source": [
    "f1_score(y_testtl, y_predsdummy)"
   ]
  },
  {
   "cell_type": "markdown",
   "metadata": {},
   "source": [
    "## My model performs extremely well compared to a baseline model"
   ]
  },
  {
   "cell_type": "markdown",
   "metadata": {},
   "source": [
    "## For my second Random Forest Grid Search, I will be scoring on recall"
   ]
  },
  {
   "cell_type": "code",
   "execution_count": 72,
   "metadata": {
    "scrolled": true
   },
   "outputs": [
    {
     "name": "stdout",
     "output_type": "stream",
     "text": [
      "Fitting 3 folds for each of 4992 candidates, totalling 14976 fits\n"
     ]
    },
    {
     "name": "stderr",
     "output_type": "stream",
     "text": [
      "[Parallel(n_jobs=-2)]: Using backend LokyBackend with 11 concurrent workers.\n",
      "[Parallel(n_jobs=-2)]: Done  28 tasks      | elapsed:    3.1s\n",
      "[Parallel(n_jobs=-2)]: Done 178 tasks      | elapsed:    8.7s\n",
      "[Parallel(n_jobs=-2)]: Done 428 tasks      | elapsed:   19.0s\n",
      "[Parallel(n_jobs=-2)]: Done 778 tasks      | elapsed:   33.7s\n",
      "[Parallel(n_jobs=-2)]: Done 1228 tasks      | elapsed:   54.2s\n",
      "[Parallel(n_jobs=-2)]: Done 1778 tasks      | elapsed:  1.3min\n",
      "[Parallel(n_jobs=-2)]: Done 2428 tasks      | elapsed:  1.7min\n",
      "[Parallel(n_jobs=-2)]: Done 3178 tasks      | elapsed:  2.3min\n",
      "[Parallel(n_jobs=-2)]: Done 4028 tasks      | elapsed:  2.9min\n",
      "[Parallel(n_jobs=-2)]: Done 4978 tasks      | elapsed:  3.6min\n",
      "[Parallel(n_jobs=-2)]: Done 6028 tasks      | elapsed:  4.4min\n",
      "[Parallel(n_jobs=-2)]: Done 7178 tasks      | elapsed:  5.3min\n",
      "[Parallel(n_jobs=-2)]: Done 8428 tasks      | elapsed:  6.3min\n",
      "[Parallel(n_jobs=-2)]: Done 9778 tasks      | elapsed:  7.2min\n",
      "[Parallel(n_jobs=-2)]: Done 11228 tasks      | elapsed:  8.3min\n",
      "[Parallel(n_jobs=-2)]: Done 12778 tasks      | elapsed:  9.6min\n",
      "[Parallel(n_jobs=-2)]: Done 14428 tasks      | elapsed: 11.0min\n",
      "[Parallel(n_jobs=-2)]: Done 14976 out of 14976 | elapsed: 11.4min finished\n"
     ]
    },
    {
     "data": {
      "text/plain": [
       "GridSearchCV(cv=3,\n",
       "             estimator=RandomForestClassifier(class_weight='balanced',\n",
       "                                              random_state=1),\n",
       "             n_jobs=-2,\n",
       "             param_grid={'criterion': ['gini', 'entropy'],\n",
       "                         'max_depth': range(3, 7),\n",
       "                         'max_leaf_nodes': range(20, 32),\n",
       "                         'min_samples_leaf': range(1, 27),\n",
       "                         'n_estimators': [100, 200]},\n",
       "             scoring='recall', verbose=1)"
      ]
     },
     "execution_count": 72,
     "metadata": {},
     "output_type": "execute_result"
    }
   ],
   "source": [
    "rf2 = RandomForestClassifier(class_weight='balanced', random_state=1)\n",
    "param_dictrf2={'n_estimators': [100,200], 'max_depth': range(3,7,1), 'criterion': ['gini','entropy'],'min_samples_leaf' : range(1,27,1), 'max_leaf_nodes': range(20,32,1)}\n",
    "gs_forest2=GridSearchCV(rf2,param_dictrf2,scoring='recall',cv=3,verbose=1,n_jobs=-2)\n",
    "\n",
    "##Fitting\n",
    "gs_forest2.fit(X_res,y_res)"
   ]
  },
  {
   "cell_type": "code",
   "execution_count": 73,
   "metadata": {},
   "outputs": [
    {
     "data": {
      "text/plain": [
       "0.8421028466483013"
      ]
     },
     "execution_count": 73,
     "metadata": {},
     "output_type": "execute_result"
    }
   ],
   "source": [
    "gs_forest2.best_score_"
   ]
  },
  {
   "cell_type": "code",
   "execution_count": 77,
   "metadata": {
    "scrolled": true
   },
   "outputs": [
    {
     "data": {
      "text/plain": [
       "0.8278688524590164"
      ]
     },
     "execution_count": 77,
     "metadata": {},
     "output_type": "execute_result"
    }
   ],
   "source": [
    "y_predsgsf2=gs_forest2.best_estimator_.predict(X_testtl)\n",
    "recall_score(y_testtl,y_predsgsf2)"
   ]
  },
  {
   "cell_type": "code",
   "execution_count": 78,
   "metadata": {
    "scrolled": true
   },
   "outputs": [
    {
     "data": {
      "text/plain": [
       "0.6579804560260586"
      ]
     },
     "execution_count": 78,
     "metadata": {},
     "output_type": "execute_result"
    }
   ],
   "source": [
    "f1_score(y_testtl,y_predsgsf2)"
   ]
  },
  {
   "cell_type": "markdown",
   "metadata": {},
   "source": [
    "##  Although the second Grid Search had a slightly higher recall, it came at a hit to F1. I am primarily interested in Recall but do not want a poor F1, either. \n"
   ]
  },
  {
   "cell_type": "markdown",
   "metadata": {},
   "source": [
    "## Voting Classifier"
   ]
  },
  {
   "cell_type": "code",
   "execution_count": 88,
   "metadata": {},
   "outputs": [],
   "source": [
    "## Loading my knn model\n",
    "\n",
    "knn3 = pickle.load(open('knn3.pkl', 'rb'))"
   ]
  },
  {
   "cell_type": "code",
   "execution_count": 89,
   "metadata": {},
   "outputs": [],
   "source": [
    "##Train_test_split\n",
    "\n",
    "X_trainvc, X_testvc, y_trainvc, y_testvc = train_test_split(X, y, random_state=1)"
   ]
  },
  {
   "cell_type": "code",
   "execution_count": 90,
   "metadata": {},
   "outputs": [],
   "source": [
    "vclf = VotingClassifier(estimators=[('gs_forest', gs_forest), ('knn3', knn3), ('gs', gs), ('gs_forest2', gs_forest2)], voting = 'hard')\n",
    "\n"
   ]
  },
  {
   "cell_type": "code",
   "execution_count": 92,
   "metadata": {},
   "outputs": [
    {
     "name": "stdout",
     "output_type": "stream",
     "text": [
      "Fitting 3 folds for each of 12600 candidates, totalling 37800 fits\n"
     ]
    },
    {
     "name": "stderr",
     "output_type": "stream",
     "text": [
      "[Parallel(n_jobs=-2)]: Using backend LokyBackend with 11 concurrent workers.\n",
      "[Parallel(n_jobs=-2)]: Done  28 tasks      | elapsed:    1.7s\n",
      "[Parallel(n_jobs=-2)]: Done 213 tasks      | elapsed:    4.6s\n",
      "[Parallel(n_jobs=-2)]: Done 711 tasks      | elapsed:   24.6s\n",
      "[Parallel(n_jobs=-2)]: Done 1064 tasks      | elapsed:   38.8s\n",
      "[Parallel(n_jobs=-2)]: Done 1514 tasks      | elapsed:   57.0s\n",
      "[Parallel(n_jobs=-2)]: Done 2064 tasks      | elapsed:  1.3min\n",
      "[Parallel(n_jobs=-2)]: Done 2714 tasks      | elapsed:  1.8min\n",
      "[Parallel(n_jobs=-2)]: Done 3464 tasks      | elapsed:  2.2min\n",
      "[Parallel(n_jobs=-2)]: Done 4314 tasks      | elapsed:  2.9min\n",
      "[Parallel(n_jobs=-2)]: Done 5264 tasks      | elapsed:  3.6min\n",
      "[Parallel(n_jobs=-2)]: Done 6314 tasks      | elapsed:  4.4min\n",
      "[Parallel(n_jobs=-2)]: Done 7464 tasks      | elapsed:  5.3min\n",
      "[Parallel(n_jobs=-2)]: Done 8714 tasks      | elapsed:  6.3min\n",
      "[Parallel(n_jobs=-2)]: Done 10064 tasks      | elapsed:  7.4min\n",
      "[Parallel(n_jobs=-2)]: Done 11514 tasks      | elapsed:  8.6min\n",
      "[Parallel(n_jobs=-2)]: Done 13064 tasks      | elapsed:  9.9min\n",
      "[Parallel(n_jobs=-2)]: Done 14714 tasks      | elapsed: 11.1min\n",
      "[Parallel(n_jobs=-2)]: Done 16464 tasks      | elapsed: 12.5min\n",
      "[Parallel(n_jobs=-2)]: Done 18314 tasks      | elapsed: 14.2min\n",
      "[Parallel(n_jobs=-2)]: Done 20264 tasks      | elapsed: 15.6min\n",
      "[Parallel(n_jobs=-2)]: Done 22314 tasks      | elapsed: 17.1min\n",
      "[Parallel(n_jobs=-2)]: Done 24464 tasks      | elapsed: 18.7min\n",
      "[Parallel(n_jobs=-2)]: Done 26714 tasks      | elapsed: 20.7min\n",
      "[Parallel(n_jobs=-2)]: Done 29064 tasks      | elapsed: 22.6min\n",
      "[Parallel(n_jobs=-2)]: Done 31514 tasks      | elapsed: 24.7min\n",
      "[Parallel(n_jobs=-2)]: Done 34064 tasks      | elapsed: 26.8min\n",
      "[Parallel(n_jobs=-2)]: Done 36714 tasks      | elapsed: 29.1min\n",
      "[Parallel(n_jobs=-2)]: Done 37800 out of 37800 | elapsed: 30.1min finished\n"
     ]
    },
    {
     "name": "stdout",
     "output_type": "stream",
     "text": [
      "Fitting 3 folds for each of 16200 candidates, totalling 48600 fits\n"
     ]
    },
    {
     "name": "stderr",
     "output_type": "stream",
     "text": [
      "[Parallel(n_jobs=-1)]: Using backend LokyBackend with 12 concurrent workers.\n",
      "[Parallel(n_jobs=-1)]: Done  28 tasks      | elapsed:    0.2s\n",
      "[Parallel(n_jobs=-1)]: Done 1640 tasks      | elapsed:    2.4s\n",
      "[Parallel(n_jobs=-1)]: Done 5640 tasks      | elapsed:    7.6s\n",
      "[Parallel(n_jobs=-1)]: Done 11240 tasks      | elapsed:   16.0s\n",
      "[Parallel(n_jobs=-1)]: Done 18440 tasks      | elapsed:   26.5s\n",
      "[Parallel(n_jobs=-1)]: Done 27240 tasks      | elapsed:   38.4s\n",
      "[Parallel(n_jobs=-1)]: Done 37640 tasks      | elapsed:   52.3s\n",
      "[Parallel(n_jobs=-1)]: Done 48600 out of 48600 | elapsed:  1.2min finished\n",
      "[Parallel(n_jobs=-2)]: Using backend LokyBackend with 11 concurrent workers.\n"
     ]
    },
    {
     "name": "stdout",
     "output_type": "stream",
     "text": [
      "Fitting 3 folds for each of 4992 candidates, totalling 14976 fits\n"
     ]
    },
    {
     "name": "stderr",
     "output_type": "stream",
     "text": [
      "[Parallel(n_jobs=-2)]: Done  28 tasks      | elapsed:    1.4s\n",
      "[Parallel(n_jobs=-2)]: Done 178 tasks      | elapsed:    8.4s\n",
      "[Parallel(n_jobs=-2)]: Done 428 tasks      | elapsed:   19.4s\n",
      "[Parallel(n_jobs=-2)]: Done 778 tasks      | elapsed:   33.7s\n",
      "[Parallel(n_jobs=-2)]: Done 1228 tasks      | elapsed:   52.6s\n",
      "[Parallel(n_jobs=-2)]: Done 1778 tasks      | elapsed:  1.3min\n",
      "[Parallel(n_jobs=-2)]: Done 2428 tasks      | elapsed:  1.8min\n",
      "[Parallel(n_jobs=-2)]: Done 3178 tasks      | elapsed:  2.3min\n",
      "[Parallel(n_jobs=-2)]: Done 4028 tasks      | elapsed:  3.0min\n",
      "[Parallel(n_jobs=-2)]: Done 4978 tasks      | elapsed:  3.7min\n",
      "[Parallel(n_jobs=-2)]: Done 6028 tasks      | elapsed:  4.6min\n",
      "[Parallel(n_jobs=-2)]: Done 7178 tasks      | elapsed:  5.6min\n",
      "[Parallel(n_jobs=-2)]: Done 8428 tasks      | elapsed:  6.5min\n",
      "[Parallel(n_jobs=-2)]: Done 9778 tasks      | elapsed:  7.6min\n",
      "[Parallel(n_jobs=-2)]: Done 11228 tasks      | elapsed:  8.7min\n",
      "[Parallel(n_jobs=-2)]: Done 12778 tasks      | elapsed: 10.1min\n",
      "[Parallel(n_jobs=-2)]: Done 14428 tasks      | elapsed: 11.6min\n",
      "[Parallel(n_jobs=-2)]: Done 14976 out of 14976 | elapsed: 12.1min finished\n"
     ]
    }
   ],
   "source": [
    "# Fitting a voting classifier with hard voting\n",
    "\n",
    "vclf = vclf.fit(X_trainvc,y_trainvc)"
   ]
  },
  {
   "cell_type": "code",
   "execution_count": 93,
   "metadata": {},
   "outputs": [],
   "source": [
    "preds = vclf.predict(X_testvc)"
   ]
  },
  {
   "cell_type": "code",
   "execution_count": 94,
   "metadata": {},
   "outputs": [
    {
     "data": {
      "text/plain": [
       "0.7389558232931727"
      ]
     },
     "execution_count": 94,
     "metadata": {},
     "output_type": "execute_result"
    }
   ],
   "source": [
    "f1_score(y_testvc, preds)"
   ]
  },
  {
   "cell_type": "code",
   "execution_count": 95,
   "metadata": {},
   "outputs": [
    {
     "data": {
      "text/plain": [
       "0.7540983606557377"
      ]
     },
     "execution_count": 95,
     "metadata": {},
     "output_type": "execute_result"
    }
   ],
   "source": [
    "recall_score(y_testvc, preds)"
   ]
  },
  {
   "cell_type": "markdown",
   "metadata": {},
   "source": [
    "## Good recall, but does not beat out my strongest model"
   ]
  },
  {
   "cell_type": "markdown",
   "metadata": {},
   "source": [
    "## XGBOOST"
   ]
  },
  {
   "cell_type": "markdown",
   "metadata": {},
   "source": [
    "## Testing to see if XGBOOST gives my model any recall gains"
   ]
  },
  {
   "cell_type": "code",
   "execution_count": 10,
   "metadata": {},
   "outputs": [],
   "source": [
    "import xgboost as xgb"
   ]
  },
  {
   "cell_type": "code",
   "execution_count": 21,
   "metadata": {},
   "outputs": [],
   "source": [
    "xgb_clf=xgb.XGBClassifier(random_state=1)\n",
    "\n",
    "## XGBOOST Parameter List\n",
    "\n",
    "params={'min_child_weight': [1,5,10],\n",
    "        'max_depth':[1,3,5,7,9,11],\n",
    "        'gamma': [0.5, 1, 1.5, 2, 5],\n",
    "        'subsample': [0.6, 0.8, 1.0],\n",
    "        'colsample_bytree': [0.6, 0.8, 1.0],\n",
    "        'learning_rate':[.01,.1,.5,1],\n",
    "        'max_delta_step':[1,3,5,7],\n",
    "        'booster':['dart','gbtree','gblinear']}"
   ]
  },
  {
   "cell_type": "code",
   "execution_count": 22,
   "metadata": {},
   "outputs": [],
   "source": [
    "xgb_grid=GridSearchCV(xgb_clf,params,cv=3,verbose=1,n_jobs=-1)"
   ]
  },
  {
   "cell_type": "code",
   "execution_count": 23,
   "metadata": {},
   "outputs": [
    {
     "name": "stdout",
     "output_type": "stream",
     "text": [
      "Fitting 3 folds for each of 38880 candidates, totalling 116640 fits\n"
     ]
    },
    {
     "name": "stderr",
     "output_type": "stream",
     "text": [
      "[Parallel(n_jobs=-1)]: Using backend LokyBackend with 12 concurrent workers.\n",
      "[Parallel(n_jobs=-1)]: Done  26 tasks      | elapsed:    2.3s\n",
      "[Parallel(n_jobs=-1)]: Done 176 tasks      | elapsed:    6.9s\n",
      "[Parallel(n_jobs=-1)]: Done 426 tasks      | elapsed:   18.2s\n",
      "[Parallel(n_jobs=-1)]: Done 776 tasks      | elapsed:   36.5s\n",
      "[Parallel(n_jobs=-1)]: Done 1226 tasks      | elapsed:  1.0min\n",
      "[Parallel(n_jobs=-1)]: Done 1776 tasks      | elapsed:  1.4min\n",
      "[Parallel(n_jobs=-1)]: Done 2426 tasks      | elapsed:  1.9min\n",
      "[Parallel(n_jobs=-1)]: Done 3176 tasks      | elapsed:  2.4min\n",
      "[Parallel(n_jobs=-1)]: Done 4026 tasks      | elapsed:  3.1min\n",
      "[Parallel(n_jobs=-1)]: Done 4976 tasks      | elapsed:  3.7min\n",
      "[Parallel(n_jobs=-1)]: Done 6026 tasks      | elapsed:  4.4min\n",
      "[Parallel(n_jobs=-1)]: Done 7176 tasks      | elapsed:  5.2min\n",
      "[Parallel(n_jobs=-1)]: Done 8426 tasks      | elapsed:  6.1min\n",
      "[Parallel(n_jobs=-1)]: Done 9776 tasks      | elapsed:  7.0min\n",
      "[Parallel(n_jobs=-1)]: Done 11226 tasks      | elapsed:  7.8min\n",
      "[Parallel(n_jobs=-1)]: Done 12776 tasks      | elapsed:  8.7min\n",
      "[Parallel(n_jobs=-1)]: Done 14426 tasks      | elapsed:  9.9min\n",
      "[Parallel(n_jobs=-1)]: Done 16176 tasks      | elapsed: 11.2min\n",
      "[Parallel(n_jobs=-1)]: Done 18026 tasks      | elapsed: 12.5min\n",
      "[Parallel(n_jobs=-1)]: Done 19976 tasks      | elapsed: 14.0min\n",
      "[Parallel(n_jobs=-1)]: Done 22026 tasks      | elapsed: 15.4min\n",
      "[Parallel(n_jobs=-1)]: Done 24176 tasks      | elapsed: 16.8min\n",
      "[Parallel(n_jobs=-1)]: Done 26426 tasks      | elapsed: 18.2min\n",
      "[Parallel(n_jobs=-1)]: Done 28776 tasks      | elapsed: 20.0min\n",
      "[Parallel(n_jobs=-1)]: Done 31226 tasks      | elapsed: 21.9min\n",
      "[Parallel(n_jobs=-1)]: Done 33776 tasks      | elapsed: 23.7min\n",
      "[Parallel(n_jobs=-1)]: Done 36426 tasks      | elapsed: 25.6min\n",
      "[Parallel(n_jobs=-1)]: Done 39176 tasks      | elapsed: 27.3min\n",
      "[Parallel(n_jobs=-1)]: Done 42026 tasks      | elapsed: 28.3min\n",
      "[Parallel(n_jobs=-1)]: Done 44976 tasks      | elapsed: 29.4min\n",
      "[Parallel(n_jobs=-1)]: Done 48026 tasks      | elapsed: 30.5min\n",
      "[Parallel(n_jobs=-1)]: Done 51176 tasks      | elapsed: 31.7min\n",
      "[Parallel(n_jobs=-1)]: Done 54426 tasks      | elapsed: 33.0min\n",
      "[Parallel(n_jobs=-1)]: Done 57776 tasks      | elapsed: 34.4min\n",
      "[Parallel(n_jobs=-1)]: Done 61226 tasks      | elapsed: 36.0min\n",
      "[Parallel(n_jobs=-1)]: Done 64776 tasks      | elapsed: 37.6min\n",
      "[Parallel(n_jobs=-1)]: Done 68426 tasks      | elapsed: 39.4min\n",
      "[Parallel(n_jobs=-1)]: Done 72176 tasks      | elapsed: 41.3min\n",
      "[Parallel(n_jobs=-1)]: Done 76026 tasks      | elapsed: 43.3min\n",
      "[Parallel(n_jobs=-1)]: Done 79976 tasks      | elapsed: 44.6min\n",
      "[Parallel(n_jobs=-1)]: Done 84026 tasks      | elapsed: 45.3min\n",
      "[Parallel(n_jobs=-1)]: Done 88176 tasks      | elapsed: 46.0min\n",
      "[Parallel(n_jobs=-1)]: Done 92426 tasks      | elapsed: 46.7min\n",
      "[Parallel(n_jobs=-1)]: Done 96776 tasks      | elapsed: 47.5min\n",
      "[Parallel(n_jobs=-1)]: Done 101226 tasks      | elapsed: 48.3min\n",
      "[Parallel(n_jobs=-1)]: Done 105776 tasks      | elapsed: 49.1min\n",
      "[Parallel(n_jobs=-1)]: Done 110426 tasks      | elapsed: 49.9min\n",
      "[Parallel(n_jobs=-1)]: Done 115176 tasks      | elapsed: 50.7min\n",
      "[Parallel(n_jobs=-1)]: Done 116640 out of 116640 | elapsed: 50.9min finished\n"
     ]
    },
    {
     "data": {
      "text/plain": [
       "GridSearchCV(cv=3, estimator=XGBClassifier(random_state=1), n_jobs=-1,\n",
       "             param_grid={'booster': ['dart', 'gbtree', 'gblinear'],\n",
       "                         'colsample_bytree': [0.6, 0.8, 1.0],\n",
       "                         'gamma': [0.5, 1, 1.5, 2, 5],\n",
       "                         'learning_rate': [0.01, 0.1, 0.5, 1],\n",
       "                         'max_delta_step': [1, 3, 5, 7],\n",
       "                         'max_depth': [1, 3, 5, 7, 9, 11],\n",
       "                         'min_child_weight': [1, 5, 10],\n",
       "                         'subsample': [0.6, 0.8, 1.0]},\n",
       "             verbose=1)"
      ]
     },
     "execution_count": 23,
     "metadata": {},
     "output_type": "execute_result"
    }
   ],
   "source": [
    "##Fitting\n",
    "\n",
    "xgb_grid.fit(X_res,y_res)"
   ]
  },
  {
   "cell_type": "code",
   "execution_count": 24,
   "metadata": {},
   "outputs": [
    {
     "data": {
      "text/plain": [
       "0.9555273189326557"
      ]
     },
     "execution_count": 24,
     "metadata": {},
     "output_type": "execute_result"
    }
   ],
   "source": [
    "\n",
    "xgb_grid.best_score_"
   ]
  },
  {
   "cell_type": "code",
   "execution_count": 25,
   "metadata": {},
   "outputs": [
    {
     "data": {
      "text/plain": [
       "0.7540983606557377"
      ]
     },
     "execution_count": 25,
     "metadata": {},
     "output_type": "execute_result"
    }
   ],
   "source": [
    "y_predsxg=xgb_grid.best_estimator_.predict(X_testtl)\n",
    "recall_score(y_testtl,y_predsxg)"
   ]
  },
  {
   "cell_type": "markdown",
   "metadata": {},
   "source": [
    "## Does not beat out my strongest model"
   ]
  },
  {
   "cell_type": "markdown",
   "metadata": {},
   "source": [
    "## Confusion Matrix"
   ]
  },
  {
   "cell_type": "code",
   "execution_count": 37,
   "metadata": {},
   "outputs": [],
   "source": [
    "from sklearn.metrics import confusion_matrix"
   ]
  },
  {
   "cell_type": "code",
   "execution_count": 38,
   "metadata": {},
   "outputs": [],
   "source": [
    "cm = confusion_matrix(y_testtl,y_predsnew_rff)\n",
    "classes = ['Retain', 'Churn']"
   ]
  },
  {
   "cell_type": "code",
   "execution_count": 49,
   "metadata": {},
   "outputs": [
    {
     "data": {
      "text/plain": [
       "<sklearn.metrics._plot.confusion_matrix.ConfusionMatrixDisplay at 0x7fce49162f90>"
      ]
     },
     "execution_count": 49,
     "metadata": {},
     "output_type": "execute_result"
    },
    {
     "data": {
      "image/png": "[encoded data removed]",
      "text/plain": [
       "<Figure size 720x720 with 2 Axes>"
      ]
     },
     "metadata": {
      "needs_background": "light"
     },
     "output_type": "display_data"
    }
   ],
   "source": [
    "from sklearn.metrics import plot_confusion_matrix\n",
    "\n",
    "fig, ax = plt.subplots(figsize=(10, 10))\n",
    "\n",
    "plt.rcParams.update({'font.size': 20})\n",
    "\n",
    "plot_confusion_matrix(new_rf, X_testtl, y_testtl, cmap=plt.cm.Blues, display_labels = classes, ax=ax)\n",
    "\n"
   ]
  },
  {
   "cell_type": "markdown",
   "metadata": {},
   "source": [
    "## As you can see, not only does my model have a very strong recall, it's just a very well performing model all around."
   ]
  },
  {
   "cell_type": "code",
   "execution_count": 50,
   "metadata": {},
   "outputs": [],
   "source": [
    "fig.savefig('Churn Confusion Matrix.png')"
   ]
  }
 ],
 "metadata": {
  "kernelspec": {
   "display_name": "Python 3",
   "language": "python",
   "name": "python3"
  },
  "language_info": {
   "codemirror_mode": {
    "name": "ipython",
    "version": 3
   },
   "file_extension": ".py",
   "mimetype": "text/x-python",
   "name": "python",
   "nbconvert_exporter": "python",
   "pygments_lexer": "ipython3",
   "version": "3.7.6"
  }
 },
 "nbformat": 4,
 "nbformat_minor": 4
}
