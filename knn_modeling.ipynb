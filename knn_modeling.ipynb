{
 "cells": [
  {
   "cell_type": "code",
   "execution_count": 1,
   "metadata": {},
   "outputs": [],
   "source": [
    "import pandas as pd\n",
    "import numpy as np\n",
    "import matplotlib.pyplot as plt\n",
    "%matplotlib inline\n",
    "import seaborn as sns\n",
    "import scipy.stats as stats\n",
    "from statsmodels.stats.proportion import proportions_ztest\n",
    "pd.set_option('display.max_rows', 500)\n",
    "pd.set_option('display.max_columns', 500)\n",
    "\n",
    "\n",
    "churn = pd.read_csv('churn.csv', index_col=0)"
   ]
  },
  {
   "cell_type": "code",
   "execution_count": 2,
   "metadata": {
    "scrolled": false
   },
   "outputs": [
    {
     "data": {
      "text/html": [
       "<div>\n",
       "<style scoped>\n",
       "    .dataframe tbody tr th:only-of-type {\n",
       "        vertical-align: middle;\n",
       "    }\n",
       "\n",
       "    .dataframe tbody tr th {\n",
       "        vertical-align: top;\n",
       "    }\n",
       "\n",
       "    .dataframe thead th {\n",
       "        text-align: right;\n",
       "    }\n",
       "</style>\n",
       "<table border=\"1\" class=\"dataframe\">\n",
       "  <thead>\n",
       "    <tr style=\"text-align: right;\">\n",
       "      <th></th>\n",
       "      <th>account length</th>\n",
       "      <th>international plan</th>\n",
       "      <th>number vmail messages</th>\n",
       "      <th>total day calls</th>\n",
       "      <th>total day charge</th>\n",
       "      <th>total eve calls</th>\n",
       "      <th>total eve charge</th>\n",
       "      <th>total night calls</th>\n",
       "      <th>total night charge</th>\n",
       "      <th>total intl calls</th>\n",
       "      <th>total intl charge</th>\n",
       "      <th>customer service calls</th>\n",
       "      <th>churn</th>\n",
       "      <th>top user states</th>\n",
       "    </tr>\n",
       "  </thead>\n",
       "  <tbody>\n",
       "    <tr>\n",
       "      <th>0</th>\n",
       "      <td>128</td>\n",
       "      <td>0</td>\n",
       "      <td>25</td>\n",
       "      <td>110</td>\n",
       "      <td>45.07</td>\n",
       "      <td>99</td>\n",
       "      <td>16.78</td>\n",
       "      <td>91</td>\n",
       "      <td>11.01</td>\n",
       "      <td>3</td>\n",
       "      <td>2.70</td>\n",
       "      <td>1</td>\n",
       "      <td>0</td>\n",
       "      <td>1</td>\n",
       "    </tr>\n",
       "    <tr>\n",
       "      <th>1</th>\n",
       "      <td>107</td>\n",
       "      <td>0</td>\n",
       "      <td>26</td>\n",
       "      <td>123</td>\n",
       "      <td>27.47</td>\n",
       "      <td>103</td>\n",
       "      <td>16.62</td>\n",
       "      <td>103</td>\n",
       "      <td>11.45</td>\n",
       "      <td>3</td>\n",
       "      <td>3.70</td>\n",
       "      <td>1</td>\n",
       "      <td>0</td>\n",
       "      <td>1</td>\n",
       "    </tr>\n",
       "    <tr>\n",
       "      <th>2</th>\n",
       "      <td>137</td>\n",
       "      <td>0</td>\n",
       "      <td>0</td>\n",
       "      <td>114</td>\n",
       "      <td>41.38</td>\n",
       "      <td>110</td>\n",
       "      <td>10.30</td>\n",
       "      <td>104</td>\n",
       "      <td>7.32</td>\n",
       "      <td>5</td>\n",
       "      <td>3.29</td>\n",
       "      <td>0</td>\n",
       "      <td>0</td>\n",
       "      <td>1</td>\n",
       "    </tr>\n",
       "    <tr>\n",
       "      <th>3</th>\n",
       "      <td>84</td>\n",
       "      <td>1</td>\n",
       "      <td>0</td>\n",
       "      <td>71</td>\n",
       "      <td>50.90</td>\n",
       "      <td>88</td>\n",
       "      <td>5.26</td>\n",
       "      <td>89</td>\n",
       "      <td>8.86</td>\n",
       "      <td>7</td>\n",
       "      <td>1.78</td>\n",
       "      <td>2</td>\n",
       "      <td>0</td>\n",
       "      <td>1</td>\n",
       "    </tr>\n",
       "    <tr>\n",
       "      <th>4</th>\n",
       "      <td>75</td>\n",
       "      <td>1</td>\n",
       "      <td>0</td>\n",
       "      <td>113</td>\n",
       "      <td>28.34</td>\n",
       "      <td>122</td>\n",
       "      <td>12.61</td>\n",
       "      <td>121</td>\n",
       "      <td>8.41</td>\n",
       "      <td>3</td>\n",
       "      <td>2.73</td>\n",
       "      <td>3</td>\n",
       "      <td>0</td>\n",
       "      <td>0</td>\n",
       "    </tr>\n",
       "    <tr>\n",
       "      <th>...</th>\n",
       "      <td>...</td>\n",
       "      <td>...</td>\n",
       "      <td>...</td>\n",
       "      <td>...</td>\n",
       "      <td>...</td>\n",
       "      <td>...</td>\n",
       "      <td>...</td>\n",
       "      <td>...</td>\n",
       "      <td>...</td>\n",
       "      <td>...</td>\n",
       "      <td>...</td>\n",
       "      <td>...</td>\n",
       "      <td>...</td>\n",
       "      <td>...</td>\n",
       "    </tr>\n",
       "    <tr>\n",
       "      <th>3328</th>\n",
       "      <td>192</td>\n",
       "      <td>0</td>\n",
       "      <td>36</td>\n",
       "      <td>77</td>\n",
       "      <td>26.55</td>\n",
       "      <td>126</td>\n",
       "      <td>18.32</td>\n",
       "      <td>83</td>\n",
       "      <td>12.56</td>\n",
       "      <td>6</td>\n",
       "      <td>2.67</td>\n",
       "      <td>2</td>\n",
       "      <td>0</td>\n",
       "      <td>0</td>\n",
       "    </tr>\n",
       "    <tr>\n",
       "      <th>3329</th>\n",
       "      <td>68</td>\n",
       "      <td>0</td>\n",
       "      <td>0</td>\n",
       "      <td>57</td>\n",
       "      <td>39.29</td>\n",
       "      <td>55</td>\n",
       "      <td>13.04</td>\n",
       "      <td>123</td>\n",
       "      <td>8.61</td>\n",
       "      <td>4</td>\n",
       "      <td>2.59</td>\n",
       "      <td>3</td>\n",
       "      <td>0</td>\n",
       "      <td>1</td>\n",
       "    </tr>\n",
       "    <tr>\n",
       "      <th>3330</th>\n",
       "      <td>28</td>\n",
       "      <td>0</td>\n",
       "      <td>0</td>\n",
       "      <td>109</td>\n",
       "      <td>30.74</td>\n",
       "      <td>58</td>\n",
       "      <td>24.55</td>\n",
       "      <td>91</td>\n",
       "      <td>8.64</td>\n",
       "      <td>6</td>\n",
       "      <td>3.81</td>\n",
       "      <td>2</td>\n",
       "      <td>0</td>\n",
       "      <td>1</td>\n",
       "    </tr>\n",
       "    <tr>\n",
       "      <th>3331</th>\n",
       "      <td>184</td>\n",
       "      <td>1</td>\n",
       "      <td>0</td>\n",
       "      <td>105</td>\n",
       "      <td>36.35</td>\n",
       "      <td>84</td>\n",
       "      <td>13.57</td>\n",
       "      <td>137</td>\n",
       "      <td>6.26</td>\n",
       "      <td>10</td>\n",
       "      <td>1.35</td>\n",
       "      <td>2</td>\n",
       "      <td>0</td>\n",
       "      <td>1</td>\n",
       "    </tr>\n",
       "    <tr>\n",
       "      <th>3332</th>\n",
       "      <td>74</td>\n",
       "      <td>0</td>\n",
       "      <td>25</td>\n",
       "      <td>113</td>\n",
       "      <td>39.85</td>\n",
       "      <td>82</td>\n",
       "      <td>22.60</td>\n",
       "      <td>77</td>\n",
       "      <td>10.86</td>\n",
       "      <td>4</td>\n",
       "      <td>3.70</td>\n",
       "      <td>0</td>\n",
       "      <td>0</td>\n",
       "      <td>0</td>\n",
       "    </tr>\n",
       "  </tbody>\n",
       "</table>\n",
       "<p>3333 rows × 14 columns</p>\n",
       "</div>"
      ],
      "text/plain": [
       "      account length  international plan  number vmail messages  \\\n",
       "0                128                   0                     25   \n",
       "1                107                   0                     26   \n",
       "2                137                   0                      0   \n",
       "3                 84                   1                      0   \n",
       "4                 75                   1                      0   \n",
       "...              ...                 ...                    ...   \n",
       "3328             192                   0                     36   \n",
       "3329              68                   0                      0   \n",
       "3330              28                   0                      0   \n",
       "3331             184                   1                      0   \n",
       "3332              74                   0                     25   \n",
       "\n",
       "      total day calls  total day charge  total eve calls  total eve charge  \\\n",
       "0                 110             45.07               99             16.78   \n",
       "1                 123             27.47              103             16.62   \n",
       "2                 114             41.38              110             10.30   \n",
       "3                  71             50.90               88              5.26   \n",
       "4                 113             28.34              122             12.61   \n",
       "...               ...               ...              ...               ...   \n",
       "3328               77             26.55              126             18.32   \n",
       "3329               57             39.29               55             13.04   \n",
       "3330              109             30.74               58             24.55   \n",
       "3331              105             36.35               84             13.57   \n",
       "3332              113             39.85               82             22.60   \n",
       "\n",
       "      total night calls  total night charge  total intl calls  \\\n",
       "0                    91               11.01                 3   \n",
       "1                   103               11.45                 3   \n",
       "2                   104                7.32                 5   \n",
       "3                    89                8.86                 7   \n",
       "4                   121                8.41                 3   \n",
       "...                 ...                 ...               ...   \n",
       "3328                 83               12.56                 6   \n",
       "3329                123                8.61                 4   \n",
       "3330                 91                8.64                 6   \n",
       "3331                137                6.26                10   \n",
       "3332                 77               10.86                 4   \n",
       "\n",
       "      total intl charge  customer service calls  churn  top user states  \n",
       "0                  2.70                       1      0                1  \n",
       "1                  3.70                       1      0                1  \n",
       "2                  3.29                       0      0                1  \n",
       "3                  1.78                       2      0                1  \n",
       "4                  2.73                       3      0                0  \n",
       "...                 ...                     ...    ...              ...  \n",
       "3328               2.67                       2      0                0  \n",
       "3329               2.59                       3      0                1  \n",
       "3330               3.81                       2      0                1  \n",
       "3331               1.35                       2      0                1  \n",
       "3332               3.70                       0      0                0  \n",
       "\n",
       "[3333 rows x 14 columns]"
      ]
     },
     "execution_count": 2,
     "metadata": {},
     "output_type": "execute_result"
    }
   ],
   "source": [
    "churn"
   ]
  },
  {
   "cell_type": "code",
   "execution_count": 3,
   "metadata": {},
   "outputs": [],
   "source": [
    "X = churn.drop('churn', axis = 1)\n",
    "y = churn.churn"
   ]
  },
  {
   "cell_type": "code",
   "execution_count": 4,
   "metadata": {},
   "outputs": [
    {
     "data": {
      "text/html": [
       "<div>\n",
       "<style scoped>\n",
       "    .dataframe tbody tr th:only-of-type {\n",
       "        vertical-align: middle;\n",
       "    }\n",
       "\n",
       "    .dataframe tbody tr th {\n",
       "        vertical-align: top;\n",
       "    }\n",
       "\n",
       "    .dataframe thead th {\n",
       "        text-align: right;\n",
       "    }\n",
       "</style>\n",
       "<table border=\"1\" class=\"dataframe\">\n",
       "  <thead>\n",
       "    <tr style=\"text-align: right;\">\n",
       "      <th></th>\n",
       "      <th>account length</th>\n",
       "      <th>international plan</th>\n",
       "      <th>number vmail messages</th>\n",
       "      <th>total day calls</th>\n",
       "      <th>total day charge</th>\n",
       "      <th>total eve calls</th>\n",
       "      <th>total eve charge</th>\n",
       "      <th>total night calls</th>\n",
       "      <th>total night charge</th>\n",
       "      <th>total intl calls</th>\n",
       "      <th>total intl charge</th>\n",
       "      <th>customer service calls</th>\n",
       "      <th>top user states</th>\n",
       "    </tr>\n",
       "  </thead>\n",
       "  <tbody>\n",
       "    <tr>\n",
       "      <th>0</th>\n",
       "      <td>128</td>\n",
       "      <td>0</td>\n",
       "      <td>25</td>\n",
       "      <td>110</td>\n",
       "      <td>45.07</td>\n",
       "      <td>99</td>\n",
       "      <td>16.78</td>\n",
       "      <td>91</td>\n",
       "      <td>11.01</td>\n",
       "      <td>3</td>\n",
       "      <td>2.70</td>\n",
       "      <td>1</td>\n",
       "      <td>1</td>\n",
       "    </tr>\n",
       "    <tr>\n",
       "      <th>1</th>\n",
       "      <td>107</td>\n",
       "      <td>0</td>\n",
       "      <td>26</td>\n",
       "      <td>123</td>\n",
       "      <td>27.47</td>\n",
       "      <td>103</td>\n",
       "      <td>16.62</td>\n",
       "      <td>103</td>\n",
       "      <td>11.45</td>\n",
       "      <td>3</td>\n",
       "      <td>3.70</td>\n",
       "      <td>1</td>\n",
       "      <td>1</td>\n",
       "    </tr>\n",
       "    <tr>\n",
       "      <th>2</th>\n",
       "      <td>137</td>\n",
       "      <td>0</td>\n",
       "      <td>0</td>\n",
       "      <td>114</td>\n",
       "      <td>41.38</td>\n",
       "      <td>110</td>\n",
       "      <td>10.30</td>\n",
       "      <td>104</td>\n",
       "      <td>7.32</td>\n",
       "      <td>5</td>\n",
       "      <td>3.29</td>\n",
       "      <td>0</td>\n",
       "      <td>1</td>\n",
       "    </tr>\n",
       "    <tr>\n",
       "      <th>3</th>\n",
       "      <td>84</td>\n",
       "      <td>1</td>\n",
       "      <td>0</td>\n",
       "      <td>71</td>\n",
       "      <td>50.90</td>\n",
       "      <td>88</td>\n",
       "      <td>5.26</td>\n",
       "      <td>89</td>\n",
       "      <td>8.86</td>\n",
       "      <td>7</td>\n",
       "      <td>1.78</td>\n",
       "      <td>2</td>\n",
       "      <td>1</td>\n",
       "    </tr>\n",
       "    <tr>\n",
       "      <th>4</th>\n",
       "      <td>75</td>\n",
       "      <td>1</td>\n",
       "      <td>0</td>\n",
       "      <td>113</td>\n",
       "      <td>28.34</td>\n",
       "      <td>122</td>\n",
       "      <td>12.61</td>\n",
       "      <td>121</td>\n",
       "      <td>8.41</td>\n",
       "      <td>3</td>\n",
       "      <td>2.73</td>\n",
       "      <td>3</td>\n",
       "      <td>0</td>\n",
       "    </tr>\n",
       "    <tr>\n",
       "      <th>...</th>\n",
       "      <td>...</td>\n",
       "      <td>...</td>\n",
       "      <td>...</td>\n",
       "      <td>...</td>\n",
       "      <td>...</td>\n",
       "      <td>...</td>\n",
       "      <td>...</td>\n",
       "      <td>...</td>\n",
       "      <td>...</td>\n",
       "      <td>...</td>\n",
       "      <td>...</td>\n",
       "      <td>...</td>\n",
       "      <td>...</td>\n",
       "    </tr>\n",
       "    <tr>\n",
       "      <th>3328</th>\n",
       "      <td>192</td>\n",
       "      <td>0</td>\n",
       "      <td>36</td>\n",
       "      <td>77</td>\n",
       "      <td>26.55</td>\n",
       "      <td>126</td>\n",
       "      <td>18.32</td>\n",
       "      <td>83</td>\n",
       "      <td>12.56</td>\n",
       "      <td>6</td>\n",
       "      <td>2.67</td>\n",
       "      <td>2</td>\n",
       "      <td>0</td>\n",
       "    </tr>\n",
       "    <tr>\n",
       "      <th>3329</th>\n",
       "      <td>68</td>\n",
       "      <td>0</td>\n",
       "      <td>0</td>\n",
       "      <td>57</td>\n",
       "      <td>39.29</td>\n",
       "      <td>55</td>\n",
       "      <td>13.04</td>\n",
       "      <td>123</td>\n",
       "      <td>8.61</td>\n",
       "      <td>4</td>\n",
       "      <td>2.59</td>\n",
       "      <td>3</td>\n",
       "      <td>1</td>\n",
       "    </tr>\n",
       "    <tr>\n",
       "      <th>3330</th>\n",
       "      <td>28</td>\n",
       "      <td>0</td>\n",
       "      <td>0</td>\n",
       "      <td>109</td>\n",
       "      <td>30.74</td>\n",
       "      <td>58</td>\n",
       "      <td>24.55</td>\n",
       "      <td>91</td>\n",
       "      <td>8.64</td>\n",
       "      <td>6</td>\n",
       "      <td>3.81</td>\n",
       "      <td>2</td>\n",
       "      <td>1</td>\n",
       "    </tr>\n",
       "    <tr>\n",
       "      <th>3331</th>\n",
       "      <td>184</td>\n",
       "      <td>1</td>\n",
       "      <td>0</td>\n",
       "      <td>105</td>\n",
       "      <td>36.35</td>\n",
       "      <td>84</td>\n",
       "      <td>13.57</td>\n",
       "      <td>137</td>\n",
       "      <td>6.26</td>\n",
       "      <td>10</td>\n",
       "      <td>1.35</td>\n",
       "      <td>2</td>\n",
       "      <td>1</td>\n",
       "    </tr>\n",
       "    <tr>\n",
       "      <th>3332</th>\n",
       "      <td>74</td>\n",
       "      <td>0</td>\n",
       "      <td>25</td>\n",
       "      <td>113</td>\n",
       "      <td>39.85</td>\n",
       "      <td>82</td>\n",
       "      <td>22.60</td>\n",
       "      <td>77</td>\n",
       "      <td>10.86</td>\n",
       "      <td>4</td>\n",
       "      <td>3.70</td>\n",
       "      <td>0</td>\n",
       "      <td>0</td>\n",
       "    </tr>\n",
       "  </tbody>\n",
       "</table>\n",
       "<p>3333 rows × 13 columns</p>\n",
       "</div>"
      ],
      "text/plain": [
       "      account length  international plan  number vmail messages  \\\n",
       "0                128                   0                     25   \n",
       "1                107                   0                     26   \n",
       "2                137                   0                      0   \n",
       "3                 84                   1                      0   \n",
       "4                 75                   1                      0   \n",
       "...              ...                 ...                    ...   \n",
       "3328             192                   0                     36   \n",
       "3329              68                   0                      0   \n",
       "3330              28                   0                      0   \n",
       "3331             184                   1                      0   \n",
       "3332              74                   0                     25   \n",
       "\n",
       "      total day calls  total day charge  total eve calls  total eve charge  \\\n",
       "0                 110             45.07               99             16.78   \n",
       "1                 123             27.47              103             16.62   \n",
       "2                 114             41.38              110             10.30   \n",
       "3                  71             50.90               88              5.26   \n",
       "4                 113             28.34              122             12.61   \n",
       "...               ...               ...              ...               ...   \n",
       "3328               77             26.55              126             18.32   \n",
       "3329               57             39.29               55             13.04   \n",
       "3330              109             30.74               58             24.55   \n",
       "3331              105             36.35               84             13.57   \n",
       "3332              113             39.85               82             22.60   \n",
       "\n",
       "      total night calls  total night charge  total intl calls  \\\n",
       "0                    91               11.01                 3   \n",
       "1                   103               11.45                 3   \n",
       "2                   104                7.32                 5   \n",
       "3                    89                8.86                 7   \n",
       "4                   121                8.41                 3   \n",
       "...                 ...                 ...               ...   \n",
       "3328                 83               12.56                 6   \n",
       "3329                123                8.61                 4   \n",
       "3330                 91                8.64                 6   \n",
       "3331                137                6.26                10   \n",
       "3332                 77               10.86                 4   \n",
       "\n",
       "      total intl charge  customer service calls  top user states  \n",
       "0                  2.70                       1                1  \n",
       "1                  3.70                       1                1  \n",
       "2                  3.29                       0                1  \n",
       "3                  1.78                       2                1  \n",
       "4                  2.73                       3                0  \n",
       "...                 ...                     ...              ...  \n",
       "3328               2.67                       2                0  \n",
       "3329               2.59                       3                1  \n",
       "3330               3.81                       2                1  \n",
       "3331               1.35                       2                1  \n",
       "3332               3.70                       0                0  \n",
       "\n",
       "[3333 rows x 13 columns]"
      ]
     },
     "execution_count": 4,
     "metadata": {},
     "output_type": "execute_result"
    }
   ],
   "source": [
    "X"
   ]
  },
  {
   "cell_type": "markdown",
   "metadata": {},
   "source": [
    "# KNN"
   ]
  },
  {
   "cell_type": "markdown",
   "metadata": {},
   "source": [
    "## N-Neighbor = 1"
   ]
  },
  {
   "cell_type": "code",
   "execution_count": 5,
   "metadata": {},
   "outputs": [],
   "source": [
    "from sklearn.model_selection import train_test_split\n",
    "X_trainknn, X_testknn, y_trainknn, y_testknn = train_test_split(X, y, random_state=1)"
   ]
  },
  {
   "cell_type": "code",
   "execution_count": 6,
   "metadata": {},
   "outputs": [],
   "source": [
    "from sklearn.preprocessing import StandardScaler\n",
    "scaler = StandardScaler()  \n",
    "scaler.fit(X_trainknn)\n",
    "\n",
    "X_trainknn = scaler.transform(X_trainknn)  \n",
    "X_testknn = scaler.transform(X_testknn)"
   ]
  },
  {
   "cell_type": "code",
   "execution_count": 7,
   "metadata": {},
   "outputs": [],
   "source": [
    "from sklearn.neighbors import KNeighborsClassifier"
   ]
  },
  {
   "cell_type": "code",
   "execution_count": 8,
   "metadata": {},
   "outputs": [],
   "source": [
    "knn = KNeighborsClassifier(n_neighbors=1)"
   ]
  },
  {
   "cell_type": "code",
   "execution_count": 9,
   "metadata": {},
   "outputs": [
    {
     "data": {
      "text/plain": [
       "KNeighborsClassifier(n_neighbors=1)"
      ]
     },
     "execution_count": 9,
     "metadata": {},
     "output_type": "execute_result"
    }
   ],
   "source": [
    "knn.fit(X_trainknn, y_trainknn)"
   ]
  },
  {
   "cell_type": "code",
   "execution_count": 10,
   "metadata": {},
   "outputs": [],
   "source": [
    "y_pred_class = knn.predict(X_testknn)\n"
   ]
  },
  {
   "cell_type": "code",
   "execution_count": 11,
   "metadata": {
    "scrolled": true
   },
   "outputs": [
    {
     "name": "stdout",
     "output_type": "stream",
     "text": [
      "Accuracy:0.8501199040767387\n"
     ]
    }
   ],
   "source": [
    "from sklearn import metrics\n",
    "print('Accuracy:' + str(metrics.accuracy_score(y_testknn, y_pred_class)))"
   ]
  },
  {
   "cell_type": "code",
   "execution_count": 12,
   "metadata": {},
   "outputs": [
    {
     "data": {
      "text/plain": [
       "0.8550855085508551"
      ]
     },
     "execution_count": 12,
     "metadata": {},
     "output_type": "execute_result"
    }
   ],
   "source": [
    "1-y.mean()"
   ]
  },
  {
   "cell_type": "code",
   "execution_count": 13,
   "metadata": {},
   "outputs": [
    {
     "data": {
      "text/plain": [
       "0.48623853211009177"
      ]
     },
     "execution_count": 13,
     "metadata": {},
     "output_type": "execute_result"
    }
   ],
   "source": [
    "metrics.precision_score(y_testknn, y_pred_class)"
   ]
  },
  {
   "cell_type": "code",
   "execution_count": 14,
   "metadata": {},
   "outputs": [
    {
     "data": {
      "text/plain": [
       "0.4344262295081967"
      ]
     },
     "execution_count": 14,
     "metadata": {},
     "output_type": "execute_result"
    }
   ],
   "source": [
    "metrics.recall_score(y_testknn, y_pred_class)"
   ]
  },
  {
   "cell_type": "code",
   "execution_count": 15,
   "metadata": {},
   "outputs": [
    {
     "name": "stdout",
     "output_type": "stream",
     "text": [
      "F-Score:0.4588744588744589\n"
     ]
    }
   ],
   "source": [
    "print('F-Score:' + str(metrics.f1_score(y_testknn, y_pred_class)))\n"
   ]
  },
  {
   "cell_type": "markdown",
   "metadata": {},
   "source": [
    "## N-Neighbor = 20"
   ]
  },
  {
   "cell_type": "code",
   "execution_count": 16,
   "metadata": {
    "scrolled": true
   },
   "outputs": [
    {
     "name": "stdout",
     "output_type": "stream",
     "text": [
      "Accuracy:0.8621103117505995\n",
      "0.6842105263157895\n",
      "0.10655737704918032\n"
     ]
    }
   ],
   "source": [
    "X_trainknn20, X_testknn20, y_trainknn20, y_testknn20 = train_test_split(X, y, random_state=1)\n",
    "\n",
    "scaler = StandardScaler()  \n",
    "scaler.fit(X_trainknn20)\n",
    "\n",
    "X_trainknn20 = scaler.transform(X_trainknn20)  \n",
    "X_testknn20 = scaler.transform(X_testknn20)\n",
    "\n",
    "\n",
    "knn20 = KNeighborsClassifier(n_neighbors=20)\n",
    "\n",
    "knn20.fit(X_trainknn20, y_trainknn20)\n",
    "\n",
    "y_pred_class20 = knn20.predict(X_testknn20)\n",
    "\n",
    "print('Accuracy:' + str(metrics.accuracy_score(y_testknn20, y_pred_class20)))\n",
    "\n",
    "1-y.mean()\n",
    "\n",
    "print(metrics.precision_score(y_testknn20, y_pred_class20))\n",
    "\n",
    "print(metrics.recall_score(y_testknn20, y_pred_class20))"
   ]
  },
  {
   "cell_type": "code",
   "execution_count": 17,
   "metadata": {},
   "outputs": [
    {
     "name": "stdout",
     "output_type": "stream",
     "text": [
      "F-Score:0.18439716312056736\n"
     ]
    }
   ],
   "source": [
    "print('F-Score:' + str(metrics.f1_score(y_testknn20, y_pred_class20)))\n"
   ]
  },
  {
   "cell_type": "markdown",
   "metadata": {},
   "source": [
    "## N-Neighbor = 10"
   ]
  },
  {
   "cell_type": "code",
   "execution_count": 18,
   "metadata": {},
   "outputs": [
    {
     "name": "stdout",
     "output_type": "stream",
     "text": [
      "Accuracy:0.8693045563549161\n",
      "0.782608695652174\n",
      "0.14754098360655737\n"
     ]
    }
   ],
   "source": [
    "X_trainknn10, X_testknn10, y_trainknn10, y_testknn10 = train_test_split(X, y, random_state=1)\n",
    "\n",
    "scaler = StandardScaler()  \n",
    "scaler.fit(X_trainknn10)\n",
    "\n",
    "X_trainknn10 = scaler.transform(X_trainknn10)  \n",
    "X_testknn10 = scaler.transform(X_testknn10)\n",
    "\n",
    "knn10 = KNeighborsClassifier(n_neighbors=10)\n",
    "\n",
    "knn10.fit(X_trainknn10, y_trainknn10)\n",
    "\n",
    "y_pred_class10 = knn10.predict(X_testknn10)\n",
    "\n",
    "print('Accuracy:' + str(metrics.accuracy_score(y_testknn10, y_pred_class10)))\n",
    "\n",
    "1-y.mean()\n",
    "\n",
    "print(metrics.precision_score(y_testknn10, y_pred_class10))\n",
    "\n",
    "print(metrics.recall_score(y_testknn10, y_pred_class10))"
   ]
  },
  {
   "cell_type": "code",
   "execution_count": 19,
   "metadata": {},
   "outputs": [
    {
     "name": "stdout",
     "output_type": "stream",
     "text": [
      "F-Score:0.24827586206896549\n"
     ]
    }
   ],
   "source": [
    "print('F-Score:' + str(metrics.f1_score(y_testknn10, y_pred_class10)))\n"
   ]
  },
  {
   "cell_type": "markdown",
   "metadata": {},
   "source": [
    "## N-Neighbor = 5"
   ]
  },
  {
   "cell_type": "code",
   "execution_count": 20,
   "metadata": {},
   "outputs": [
    {
     "name": "stdout",
     "output_type": "stream",
     "text": [
      "Accuracy:0.882494004796163\n",
      "0.7307692307692307\n",
      "0.3114754098360656\n"
     ]
    }
   ],
   "source": [
    "X_trainknn5, X_testknn5, y_trainknn5, y_testknn5 = train_test_split(X, y, random_state=1)\n",
    "\n",
    "scaler = StandardScaler()  \n",
    "scaler.fit(X_trainknn5)\n",
    "\n",
    "X_trainknn5 = scaler.transform(X_trainknn5)  \n",
    "X_testknn5 = scaler.transform(X_testknn5)\n",
    "\n",
    "\n",
    "knn5 = KNeighborsClassifier(n_neighbors=5)\n",
    "\n",
    "knn5.fit(X_trainknn5, y_trainknn5)\n",
    "\n",
    "y_pred_class5 = knn5.predict(X_testknn5)\n",
    "\n",
    "print('Accuracy:' + str(metrics.accuracy_score(y_testknn5, y_pred_class5)))\n",
    "\n",
    "1-y.mean()\n",
    "\n",
    "print(metrics.precision_score(y_testknn5, y_pred_class5))\n",
    "\n",
    "print(metrics.recall_score(y_testknn5, y_pred_class5))"
   ]
  },
  {
   "cell_type": "code",
   "execution_count": 21,
   "metadata": {},
   "outputs": [
    {
     "name": "stdout",
     "output_type": "stream",
     "text": [
      "F-Score:0.4367816091954023\n"
     ]
    }
   ],
   "source": [
    "print('F-Score:' + str(metrics.f1_score(y_testknn5, y_pred_class5)))\n"
   ]
  },
  {
   "cell_type": "markdown",
   "metadata": {},
   "source": [
    "## N-Neighbor = 3"
   ]
  },
  {
   "cell_type": "code",
   "execution_count": 22,
   "metadata": {},
   "outputs": [
    {
     "name": "stdout",
     "output_type": "stream",
     "text": [
      "Accuracy:0.8788968824940048\n",
      "0.6521739130434783\n",
      "0.36885245901639346\n"
     ]
    }
   ],
   "source": [
    "X_trainknn3, X_testknn3, y_trainknn3, y_testknn3 = train_test_split(X, y, random_state=1)\n",
    "\n",
    "scaler = StandardScaler()  \n",
    "scaler.fit(X_trainknn3)\n",
    "\n",
    "X_trainknn3 = scaler.transform(X_trainknn3)  \n",
    "X_testknn3 = scaler.transform(X_testknn3)\n",
    "\n",
    "\n",
    "knn3 = KNeighborsClassifier(n_neighbors=3)\n",
    "\n",
    "knn3.fit(X_trainknn3, y_trainknn3)\n",
    "\n",
    "y_pred_class3 = knn3.predict(X_testknn3)\n",
    "\n",
    "\n",
    "print('Accuracy:' + str(metrics.accuracy_score(y_testknn3, y_pred_class3)))\n",
    "\n",
    "1-y.mean()\n",
    "\n",
    "print(metrics.precision_score(y_testknn3, y_pred_class3))\n",
    "\n",
    "print(metrics.recall_score(y_testknn3, y_pred_class3))"
   ]
  },
  {
   "cell_type": "code",
   "execution_count": 23,
   "metadata": {},
   "outputs": [
    {
     "name": "stdout",
     "output_type": "stream",
     "text": [
      "F-Score:0.4712041884816754\n"
     ]
    }
   ],
   "source": [
    "print('F-Score:' + str(metrics.f1_score(y_testknn3, y_pred_class3)))\n"
   ]
  },
  {
   "cell_type": "code",
   "execution_count": 44,
   "metadata": {},
   "outputs": [],
   "source": [
    "import pickle\n",
    "mod = open('knn3.pkl', 'wb')\n",
    "pickle.dump(knn3, mod)\n",
    "mod.close()"
   ]
  },
  {
   "cell_type": "markdown",
   "metadata": {},
   "source": [
    "## Grid-Search "
   ]
  },
  {
   "cell_type": "code",
   "execution_count": 34,
   "metadata": {},
   "outputs": [],
   "source": [
    "from sklearn.model_selection import GridSearchCV\n",
    "X_trainknngs, X_testknngs, y_trainknngs, y_testknngs = train_test_split(X, y, random_state=1)\n",
    "\n",
    "scaler = StandardScaler()  \n",
    "scaler.fit(X_trainknngs)\n",
    "\n",
    "X_trainknngs = scaler.transform(X_trainknngs)  \n",
    "X_testknngs = scaler.transform(X_testknngs)\n",
    "\n",
    "\n",
    "final_knn = KNeighborsClassifier()\n",
    "\n",
    "knn_params = {\n",
    "    'n_neighbors': range(1,50,1),\n",
    "    'weights': ['uniform', 'distance'],\n",
    "    'metric': ['minkowski', 'euclidean', 'manhattan'],\n",
    "}"
   ]
  },
  {
   "cell_type": "code",
   "execution_count": 35,
   "metadata": {},
   "outputs": [],
   "source": [
    "knn_gs = GridSearchCV(final_knn, knn_params,scoring='f1',verbose = 1, cv = 3, n_jobs=-2)"
   ]
  },
  {
   "cell_type": "code",
   "execution_count": 36,
   "metadata": {},
   "outputs": [
    {
     "name": "stdout",
     "output_type": "stream",
     "text": [
      "Fitting 3 folds for each of 294 candidates, totalling 882 fits\n"
     ]
    },
    {
     "name": "stderr",
     "output_type": "stream",
     "text": [
      "[Parallel(n_jobs=-2)]: Using backend LokyBackend with 11 concurrent workers.\n",
      "[Parallel(n_jobs=-2)]: Done  28 tasks      | elapsed:    2.0s\n",
      "[Parallel(n_jobs=-2)]: Done 470 tasks      | elapsed:    4.7s\n",
      "[Parallel(n_jobs=-2)]: Done 882 out of 882 | elapsed:    7.2s finished\n"
     ]
    },
    {
     "data": {
      "text/plain": [
       "GridSearchCV(cv=3, estimator=KNeighborsClassifier(), n_jobs=-2,\n",
       "             param_grid={'metric': ['minkowski', 'euclidean', 'manhattan'],\n",
       "                         'n_neighbors': range(1, 50),\n",
       "                         'weights': ['uniform', 'distance']},\n",
       "             scoring='f1', verbose=1)"
      ]
     },
     "execution_count": 36,
     "metadata": {},
     "output_type": "execute_result"
    }
   ],
   "source": [
    "knn_gs.fit(X_trainknngs,y_trainknngs)"
   ]
  },
  {
   "cell_type": "code",
   "execution_count": 37,
   "metadata": {},
   "outputs": [
    {
     "data": {
      "text/plain": [
       "0.45158725029004376"
      ]
     },
     "execution_count": 37,
     "metadata": {},
     "output_type": "execute_result"
    }
   ],
   "source": [
    "knn_gs.best_score_"
   ]
  },
  {
   "cell_type": "code",
   "execution_count": 38,
   "metadata": {},
   "outputs": [
    {
     "data": {
      "text/plain": [
       "KNeighborsClassifier(n_neighbors=6, weights='distance')"
      ]
     },
     "execution_count": 38,
     "metadata": {},
     "output_type": "execute_result"
    }
   ],
   "source": [
    "knn_gs.best_estimator_"
   ]
  },
  {
   "cell_type": "code",
   "execution_count": 39,
   "metadata": {},
   "outputs": [
    {
     "data": {
      "text/plain": [
       "{'metric': 'minkowski', 'n_neighbors': 6, 'weights': 'distance'}"
      ]
     },
     "execution_count": 39,
     "metadata": {},
     "output_type": "execute_result"
    }
   ],
   "source": [
    "knn_gs.best_params_"
   ]
  },
  {
   "cell_type": "code",
   "execution_count": 40,
   "metadata": {},
   "outputs": [],
   "source": [
    "y_predsknngs=knn_gs.best_estimator_.predict(X_testknngs)\n",
    "f1_score=metrics.f1_score(y_testknngs,y_predsknngs)"
   ]
  },
  {
   "cell_type": "code",
   "execution_count": 41,
   "metadata": {},
   "outputs": [
    {
     "data": {
      "text/plain": [
       "0.42774566473988446"
      ]
     },
     "execution_count": 41,
     "metadata": {},
     "output_type": "execute_result"
    }
   ],
   "source": [
    "f1_score"
   ]
  },
  {
   "cell_type": "code",
   "execution_count": 42,
   "metadata": {},
   "outputs": [
    {
     "data": {
      "text/plain": [
       "13"
      ]
     },
     "execution_count": 42,
     "metadata": {},
     "output_type": "execute_result"
    }
   ],
   "source": [
    "knn_gs.n_features_in_\n"
   ]
  },
  {
   "cell_type": "code",
   "execution_count": 43,
   "metadata": {},
   "outputs": [
    {
     "name": "stdout",
     "output_type": "stream",
     "text": [
      "0.30327868852459017\n"
     ]
    }
   ],
   "source": [
    "print(metrics.recall_score(y_testknngs, y_predsknngs))"
   ]
  },
  {
   "cell_type": "code",
   "execution_count": null,
   "metadata": {},
   "outputs": [],
   "source": []
  }
 ],
 "metadata": {
  "kernelspec": {
   "display_name": "Python 3",
   "language": "python",
   "name": "python3"
  },
  "language_info": {
   "codemirror_mode": {
    "name": "ipython",
    "version": 3
   },
   "file_extension": ".py",
   "mimetype": "text/x-python",
   "name": "python",
   "nbconvert_exporter": "python",
   "pygments_lexer": "ipython3",
   "version": "3.7.6"
  }
 },
 "nbformat": 4,
 "nbformat_minor": 4
}
